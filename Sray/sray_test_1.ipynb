{
 "metadata": {
  "language_info": {
   "codemirror_mode": {
    "name": "ipython",
    "version": 3
   },
   "file_extension": ".py",
   "mimetype": "text/x-python",
   "name": "python",
   "nbconvert_exporter": "python",
   "pygments_lexer": "ipython3",
   "version": "3.7.8-final"
  },
  "orig_nbformat": 2,
  "kernelspec": {
   "name": "python37864bit1d32abbaccd34df4a7ecbefc57aec0e8",
   "display_name": "Python 3.7.8 64-bit"
  },
  "metadata": {
   "interpreter": {
    "hash": "747c0c9e8a2aa273aa170cc33dbadd06e3c2627f690ee5127eeb0e60abaae88b"
   }
  }
 },
 "nbformat": 4,
 "nbformat_minor": 2,
 "cells": [
  {
   "cell_type": "code",
   "execution_count": 1,
   "metadata": {},
   "outputs": [],
   "source": [
    "import pandas as pd"
   ]
  },
  {
   "cell_type": "code",
   "execution_count": 2,
   "metadata": {},
   "outputs": [],
   "source": [
    "import openpyxl \n",
    "from datetime import datetime"
   ]
  },
  {
   "cell_type": "code",
   "execution_count": 3,
   "metadata": {},
   "outputs": [],
   "source": [
    "sray_19_20= pd.ExcelFile(\"RA\\MY_ESG_sray_2019-20.xlsx\")\n",
    "sray_17_18= pd.ExcelFile(\"RA\\MY_ESG_sray_2017-18.xlsx\")\n",
    "\n",
    "overall_19_20=pd.DataFrame()\n",
    "overall_19_20= pd.read_excel(sray_19_20, sheet_name=\"overall\")\n",
    "E_19_20= pd.read_excel(sray_19_20, sheet_name=\"E\")\n",
    "S_19_20= pd.read_excel(sray_19_20, sheet_name=\"S\")\n",
    "G_19_20= pd.read_excel(sray_19_20, sheet_name=\"G\")"
   ]
  },
  {
   "cell_type": "code",
   "execution_count": 4,
   "metadata": {},
   "outputs": [
    {
     "output_type": "execute_result",
     "data": {
      "text/plain": [
       "268"
      ]
     },
     "metadata": {},
     "execution_count": 4
    }
   ],
   "source": [
    "companies= pd.read_excel(sray_19_20, sheet_name=\"overall\").iloc[:,0]\n",
    "\n",
    "companies=companies.tolist()\n",
    "\n",
    "#print(companies)\n",
    "len(companies)"
   ]
  },
  {
   "cell_type": "code",
   "execution_count": 5,
   "metadata": {},
   "outputs": [],
   "source": [
    "overall_19_20=overall_19_20.transpose()\n",
    "\n",
    "#change new header\n",
    "new_header= overall_19_20.iloc[0]\n",
    "\n",
    "overall_19_20= overall_19_20[1:]\n",
    "\n",
    "overall_19_20.columns= new_header\n",
    "\n",
    "#drop the firm, firmno, sector_no fisrt\n",
    "overall_19_20= overall_19_20[4:]\n",
    "\n",
    "overall_19_20 = overall_19_20.rename_axis(index=(None), columns=None)\n",
    "\n",
    "#overall_19_20"
   ]
  },
  {
   "cell_type": "code",
   "execution_count": 6,
   "metadata": {
    "tags": []
   },
   "outputs": [
    {
     "output_type": "stream",
     "name": "stdout",
     "text": [
      "268\n                              firm name esg_sray\n2020-12-31  ARK Resources Holdings Bhd.    62.77\n2020-11-30  ARK Resources Holdings Bhd.      NaN\n2020-10-31  ARK Resources Holdings Bhd.      NaN\n2020-09-30  ARK Resources Holdings Bhd.      NaN\n2020-08-31  ARK Resources Holdings Bhd.      NaN\n2020-07-31  ARK Resources Holdings Bhd.    61.33\n2020-06-30  ARK Resources Holdings Bhd.    61.32\n2020-05-31  ARK Resources Holdings Bhd.    61.35\n2020-04-30  ARK Resources Holdings Bhd.    61.77\n2020-03-31  ARK Resources Holdings Bhd.    49.76\n2020-02-29  ARK Resources Holdings Bhd.     49.9\n2020-01-31  ARK Resources Holdings Bhd.    49.91\n2019-12-31  ARK Resources Holdings Bhd.    49.78\n2019-11-30  ARK Resources Holdings Bhd.     49.8\n2019-10-31  ARK Resources Holdings Bhd.     49.8\n2019-09-30  ARK Resources Holdings Bhd.      NaN\n2019-08-31  ARK Resources Holdings Bhd.    49.79\n2019-07-31  ARK Resources Holdings Bhd.    49.32\n2019-06-30  ARK Resources Holdings Bhd.    49.32\n2019-05-31  ARK Resources Holdings Bhd.    49.28\n2019-04-30  ARK Resources Holdings Bhd.    49.32\n2019-03-31  ARK Resources Holdings Bhd.    49.31\n2019-02-28  ARK Resources Holdings Bhd.    49.21\n2019-01-31  ARK Resources Holdings Bhd.    49.21\n"
     ]
    }
   ],
   "source": [
    "sray_list=[]\n",
    "counter=0\n",
    "\n",
    "\n",
    "for i in range (0,len(overall_19_20.columns)):\n",
    "    temp_df= pd.DataFrame(overall_19_20.iloc[0:,i])\n",
    "\n",
    "    temp_df.insert(0, \"firm name\", companies[counter])\n",
    "\n",
    "    #temp_df.insert(1, \"firm no\", counter+1)\n",
    "\n",
    "    temp_df.columns.values[1]= \"esg_sray\" #Overall data\n",
    "\n",
    "    sray_list.append(temp_df)\n",
    "\n",
    "    counter=counter+1\n",
    "\n",
    "print(counter)\n",
    "\n",
    "print(sray_list[5])\n"
   ]
  },
  {
   "cell_type": "code",
   "execution_count": 7,
   "metadata": {},
   "outputs": [
    {
     "output_type": "execute_result",
     "data": {
      "text/plain": [
       "           date                       firm name esg_sray\n",
       "0    2020-12-31  7-Eleven Malaysia Holdings Bhd    57.76\n",
       "1    2020-11-30  7-Eleven Malaysia Holdings Bhd    57.48\n",
       "2    2020-10-31  7-Eleven Malaysia Holdings Bhd    57.49\n",
       "3    2020-09-30  7-Eleven Malaysia Holdings Bhd    57.56\n",
       "4    2020-08-31  7-Eleven Malaysia Holdings Bhd    57.55\n",
       "...         ...                             ...      ...\n",
       "6427 2019-05-31        Zhulian Corporation Bhd.    63.09\n",
       "6428 2019-04-30        Zhulian Corporation Bhd.    63.11\n",
       "6429 2019-03-31        Zhulian Corporation Bhd.    62.26\n",
       "6430 2019-02-28        Zhulian Corporation Bhd.    62.34\n",
       "6431 2019-01-31        Zhulian Corporation Bhd.    62.34\n",
       "\n",
       "[6432 rows x 3 columns]"
      ],
      "text/html": "<div>\n<style scoped>\n    .dataframe tbody tr th:only-of-type {\n        vertical-align: middle;\n    }\n\n    .dataframe tbody tr th {\n        vertical-align: top;\n    }\n\n    .dataframe thead th {\n        text-align: right;\n    }\n</style>\n<table border=\"1\" class=\"dataframe\">\n  <thead>\n    <tr style=\"text-align: right;\">\n      <th></th>\n      <th>date</th>\n      <th>firm name</th>\n      <th>esg_sray</th>\n    </tr>\n  </thead>\n  <tbody>\n    <tr>\n      <th>0</th>\n      <td>2020-12-31</td>\n      <td>7-Eleven Malaysia Holdings Bhd</td>\n      <td>57.76</td>\n    </tr>\n    <tr>\n      <th>1</th>\n      <td>2020-11-30</td>\n      <td>7-Eleven Malaysia Holdings Bhd</td>\n      <td>57.48</td>\n    </tr>\n    <tr>\n      <th>2</th>\n      <td>2020-10-31</td>\n      <td>7-Eleven Malaysia Holdings Bhd</td>\n      <td>57.49</td>\n    </tr>\n    <tr>\n      <th>3</th>\n      <td>2020-09-30</td>\n      <td>7-Eleven Malaysia Holdings Bhd</td>\n      <td>57.56</td>\n    </tr>\n    <tr>\n      <th>4</th>\n      <td>2020-08-31</td>\n      <td>7-Eleven Malaysia Holdings Bhd</td>\n      <td>57.55</td>\n    </tr>\n    <tr>\n      <th>...</th>\n      <td>...</td>\n      <td>...</td>\n      <td>...</td>\n    </tr>\n    <tr>\n      <th>6427</th>\n      <td>2019-05-31</td>\n      <td>Zhulian Corporation Bhd.</td>\n      <td>63.09</td>\n    </tr>\n    <tr>\n      <th>6428</th>\n      <td>2019-04-30</td>\n      <td>Zhulian Corporation Bhd.</td>\n      <td>63.11</td>\n    </tr>\n    <tr>\n      <th>6429</th>\n      <td>2019-03-31</td>\n      <td>Zhulian Corporation Bhd.</td>\n      <td>62.26</td>\n    </tr>\n    <tr>\n      <th>6430</th>\n      <td>2019-02-28</td>\n      <td>Zhulian Corporation Bhd.</td>\n      <td>62.34</td>\n    </tr>\n    <tr>\n      <th>6431</th>\n      <td>2019-01-31</td>\n      <td>Zhulian Corporation Bhd.</td>\n      <td>62.34</td>\n    </tr>\n  </tbody>\n</table>\n<p>6432 rows × 3 columns</p>\n</div>"
     },
     "metadata": {},
     "execution_count": 7
    }
   ],
   "source": [
    "#Combine all overall data\n",
    "sray_df= pd.concat(sray_list)\n",
    "\n",
    "#reset the index\n",
    "sray_df.reset_index(level=0, inplace=True)\n",
    "\n",
    "sray_df.rename(columns={'index': 'date'}, inplace=True)\n",
    "sray_df"
   ]
  },
  {
   "cell_type": "code",
   "execution_count": 8,
   "metadata": {},
   "outputs": [],
   "source": [
    "#processing E sheet \n",
    "E_19_20= E_19_20.transpose()\n",
    "E_19_20.columns= E_19_20.iloc[0]\n",
    "E_19_20=E_19_20[1:]\n",
    "E_19_20 = E_19_20.rename_axis(index=(None), columns=None)\n",
    "#E_19_20"
   ]
  },
  {
   "cell_type": "code",
   "execution_count": 9,
   "metadata": {},
   "outputs": [
    {
     "output_type": "stream",
     "name": "stdout",
     "text": [
      "['7-Eleven Malaysia Holdings Bhd', 'AEON Co. (Malaysia) Bhd.', 'AEON Credit Service (M) Bhd.', 'AMMB Holdings Bhd.', 'APM Automotive Holdings Bhd.', 'ARK Resources Holdings Bhd.', 'Advance Synergy Bhd.', 'Aemulus Holdings Bhd.', 'Affin Bank Bhd.', 'AirAsia Group Bhd.', 'AirAsia X Bhd.', \"Al-'Aqar Healthcare REIT\", 'Al-Salam Real Estate Investment Trust', 'Alam Maritim Resources Bhd.', 'Alcom Group Bhd.', 'Alliance Bank Malaysia Bhd.', 'Allianz Malaysia Bhd.', 'AmFIRST Real Estate Investment Trust', 'Amalgamated Industrial Steel Bhd.', 'Amanah Harta Tanah Pnb', 'Amcorp Properties Bhd.', 'Amverton Bhd', 'Amway (Malaysia) Holdings Bhd.', 'Ancom Bhd.', 'Ann Joo Resources Bhd.', 'Apex Equity Holdings Bhd.', 'Asia File Corporation Bhd.', 'Asian Pac Holdings Bhd.', 'Astro Malaysia Holdings Bhd.', 'Atlan Holdings Bhd.', 'AwanBiru Technology Bhd.', 'Axiata Group Bhd.', 'Axis Real Estate Investment Trust', 'BCB BHD', 'BIMB Holdings Bhd.', 'BLD Plantation Bhd.', 'Barakah Offshore Petroleum Bhd.', 'Batu Kawan Bhd.', 'Benalec Holdings Bhd.', 'Berjaya Assets Bhd.', 'Berjaya Corp. Bhd.', 'Berjaya Food Bhd.', 'Berjaya Land Bhd.', 'Berjaya Sports Toto Bhd.', 'Bermaz Auto Berhad', 'Bintulu Port Holdings Bhd.', 'Bioalpha Holdings Bhd.', 'Boilermech Holdings Bhd.', 'Bonia Corp. Bhd.', 'Boustead Heavy Industries Corporation Bhd.', 'Boustead Holdings Bhd.', 'Boustead Plantations Bhd.', 'Brem Holding Bhd.', 'British American Tobacco Malaysia Bhd.', 'Bumi Armada Bhd.', 'Bursa Malaysia Bhd.', 'C.I. Holdings Bhd.', 'CB Industrial Product Holding Bhd.', 'CIMB Group Holdings Bhd', 'CSC Steel Holdings Bhd.', 'Cahya Mata Sarawak Bhd.', 'CapitaLand Malaysia Mall Trust', 'Carimin Petroleum Bhd', 'Carlsberg Brewery Malaysia Bhd.', 'Chemical Co. of Malaysia Bhd.', 'Chin Hin Group Bhd', 'Choo Bee Metal Industries Bhd.', 'Coastal Contracts Bhd.', 'Comfort Gloves Bhd.', 'Concrete Engineering Products Bhd.', 'Country Heights Holdings Bhd.', 'Crescendo Corp. Bhd.', 'Cycle & Carriage Bintang Bhd.', 'DKLS Industries Bhd.', 'DKSH Holdings (Malaysia) Bhd.', 'DRB-Hicom Bhd.', 'Dagang NeXchange Berhad', 'Daibochi Bhd.', 'Daiman Development Bhd', 'Damansara Holdings Bhd.', 'Dataprep Holdings Bhd.', 'Datasonic Group Bhd.', 'Dayang Enterprise Holdings Bhd.', 'Deleum Bhd.', 'DiGi.Com Bhd', 'Dialog Group Bhd.', 'Dolphin International Bhd', 'DutaLand Bhd.', 'Dutch Lady Milk Industries Bhd.', 'ECM Libra Group Bhd.', 'Eastern & Oriental Bhd.', 'Eco World Development Group Bhd.', 'EcoFirst Consolidated Bhd', 'Econpile Holdings Bhd', 'Ekovest Bhd.', 'Encorp Bhd.', 'Evergreen Fibreboard Bhd.', 'Eversendai Corp Bhd.', 'FACB Industries Inc. Bhd.', 'FGV Holdings Bhd.', 'Far East Holdings Bhd.', 'Favelle Favco Bhd.', 'Fraser & Neave Holdings Bhd.', 'GD Express Carrier Bhd.', 'GDEX Berhad', 'GUH Holdings Bhd.', 'Gamuda Bhd.', 'Gas Malaysia Bhd.', 'Genting Bhd.', 'Genting Malaysia Bhd.', 'Genting Plantations Bhd.', 'George Kent (Malaysia) Bhd.', 'Globetronics Technology Bhd.', 'Glomac Bhd.', 'Golden Pharos Bhd.', 'Green Packet Bhd.', 'Guan Chong Bhd.', 'Hap Seng Consolidated Bhd.', 'Hap Seng Plantations Holdings Bhd.', 'Harbour-Link Group Bhd.', 'Hartalega Holdings Bhd.', 'Heng Huat Resources Group Bhd', 'Hengyuan Refining Company Bhd', 'Hiap Teck Venture Bhd.', 'Hibiscus Petroleum Bhd.', 'Ho Hup Construction Co. Bhd.', 'Hock Seng Lee Bhd.', 'Hong Leong Bank Bhd.', 'Hong Leong Financial Group Bhd.', 'Hong Leong Industries Bhd.', 'Hubline Bhd.', 'Hume Industries Berhad', 'Hup Seng Industries Bhd.', 'Hwa Tai Industries Bhd.', 'IGB Bhd.', 'IGB Corp Bhd.', 'IGB Real Estate Investment Trust', 'IHH Healthcare Bhd.', 'IJM Corp. Bhd.', 'IJM Plantations Bhd.', 'IOI Corp. Bhd.', 'IOI Properties Group Bhd.', 'IRIS Corp. Bhd.', 'Icon Offshore Bhd', 'Ikhmas Jaya Group Bhd.', 'Inari Amertron Berhad', 'Insas Bhd.', 'Iskandar Waterfront City Berhad', 'JCY International Bhd.', 'Jasa Kita Bhd.', 'KLCC Property Holdings Bhd.', 'KPJ Healthcare Bhd.', 'KSL Holdings Bhd.', 'Karex Bhd.', 'Kian Joo Can Factory Bhd.', 'Kim Hin Industry Bhd.', 'Kossan Rubber Industries Bhd.', 'Kretam Holdings Bhd.', 'Kronologi Asia Bhd.', 'Kuala Lumpur Kepong Bhd.', 'LBS Bina Group Bhd.', 'LPI Capital Bhd', 'Lafarge Malaysia Bhd.', 'Lingkaran Trans Kota Holdings Bhd.', 'Lynas Corporation Limited', 'Lynas Rare Earths Limited', 'MCT Bhd.', 'MGB Bhd', 'MISC Bhd', 'MK Land Holdings Bhd.', 'MMC Corp. Bhd.', 'MSM Malaysia Holdings Bhd.', 'Mah Sing Group Bhd.', 'Malakoff Corporation Bhd', 'Malayan Banking Bhd.', 'Malayan Cement Bhd', 'Malaysia Airports Holdings Bhd.', 'Malaysia Marine & Heavy Engineering Holdings Bhd.', 'Malaysian Bulk Carriers Bhd.', 'Malaysian Pacific Industries Bhd.', 'Malaysian Resources Corp. Bhd.', 'Marco Holdings Bhd.', 'Matrix Concepts Holdings Bhd.', 'Maxim Global Bhd.', 'Maxis Bhd.', 'Media Prima Bhd.', 'Mega First Corp. Bhd.', 'Minda Global Bhd.', 'Minho (Malaysia) Bhd.', 'Muda Holdings Bhd.', 'Mudajaya Group Bhd.', 'Muhibbah Engineering (M) Bhd.', 'My E.G. Services Bhd.', 'Mynews Holdings Bhd', 'NTPM Holdings Bhd.', 'Naim Holdings Bhd.', 'Nestle (Malaysia) Bhd.', 'Nylex (Malaysia) Bhd.', 'Oldtown Bhd.', 'Olympia Industries Bhd.', 'PETRONAS Chemicals Group Bhd.', 'PPB Group Bhd.', 'Pacific & Orient Bhd.', 'Padini Holdings Bhd.', 'Pan Malaysia Corp. Bhd.', 'Pan Malaysia Holdings Bhd.', 'Panasonic Manufacturing Malaysia Bhd.', 'Pansar Bhd.', 'Paragon Globe Berhad', 'Paramount Corp. Bhd.', 'Parkson Holdings Bhd.', 'Parkwood Holdings Bhd.', 'Pavilion Real Estate Investment Trust', 'Pegasus Heights Bhd', 'Pestech International Bhd.', 'Petronas Dagangan Bhd.', 'Petronas Gas Bhd.', 'Pharmaniaga Bhd.', 'Plenitude Bhd.', 'Pos Malaysia Bhd.', 'Press Metal Aluminium Holdings Berhad', 'Prestariang Bhd.', 'Prolexus Bhd.', 'Protasco Bhd.', 'Public Bank Bhd', 'PureCircle Limited', 'QL Resources Bhd.', 'RHB Bank Bhd.', 'Ranhill Utilities Bhd.', 'S P Setia Bhd.', 'SAM Engineering & Equipment (M) Bhd.', 'SEG International Bhd.', 'SKP Resources Bhd.', 'Sapura Energy Bhd', 'Scientex Bhd.', 'Scomi Energy Services Bhd.', 'Seal Incorporation Bhd', 'Selangor Properties Bhd.', 'Serba Dinamik Holdings Bhd', 'Sime Darby Bhd.', 'Sime Darby Plantation Bhd.', 'Sime Darby Property Bhd.', 'Sumatec Resources Bhd.', 'Sunway Bhd.', 'Sunway Construction Group Bhd.', 'Sunway Real Estate Investment Trust', 'Supermax Corp. Bhd.', 'Suria Capital Holdings Bhd.', 'Syarikat Takaful Malaysia Keluarga Bhd.', 'TDM Bhd.', 'TH Heavy Engineering Bhd.', 'TH Plantations Bhd.', 'TIME dotCom Bhd.', 'TSH Resources Bhd.', 'Ta Ann Holdings Bhd.', 'Tadmax Resources Bhd.', 'Talam Transform Berhad', 'Taliworks Corp. Bhd.', 'Tambun Indah Land Bhd.', 'Telekom Malaysia Bhd.', 'Tenaga Nasional Bhd', 'Three-A Resources Bhd.', 'Tiong Nam Logistics Holdings Bhd.', 'Titijaya Land Bhd.', 'Top Builders Capital Bhd.', 'Top Glove Corporation Bhd.', 'Tune Protect Group Bhd.', 'UEM Edgenta Bhd.', 'UEM Sunrise Bhd.', 'UMW Holdings Bhd', 'UOA Development Bhd.', 'Uchi Technologies Bhd.', 'Unisem (M) Bhd.', 'United Malacca Bhd.', 'United Plantations Bhd.', 'Uzma Bhd.', 'V.S. Industry Bhd.', 'WCT Holdings Bhd.', 'Westports Holdings Bhd.', 'Xin Hwa Holdings Bhd.', 'YTL Corp Bhd.', 'YTL Power International Bhd.', 'Yinson Holdings Bhd.', 'Zhulian Corporation Bhd.']\n"
     ]
    },
    {
     "output_type": "execute_result",
     "data": {
      "text/plain": [
       "284"
      ]
     },
     "metadata": {},
     "execution_count": 9
    }
   ],
   "source": [
    "#here take the companies from sheet E again, it prooved that the number of comapnies in E not same as in overall sheet \n",
    "companies_E= pd.read_excel(sray_19_20, sheet_name=\"E\").iloc[:,0]\n",
    "\n",
    "companies_E=companies_E.tolist()\n",
    "\n",
    "print(companies_E)\n",
    "len(companies_E)"
   ]
  },
  {
   "cell_type": "code",
   "execution_count": 10,
   "metadata": {},
   "outputs": [
    {
     "output_type": "stream",
     "name": "stdout",
     "text": [
      "284\n                              firm name      e\n2020-12-31  ARK Resources Holdings Bhd.  53.83\n2020-11-30  ARK Resources Holdings Bhd.    NaN\n2020-10-31  ARK Resources Holdings Bhd.    NaN\n2020-09-30  ARK Resources Holdings Bhd.    NaN\n2020-08-31  ARK Resources Holdings Bhd.    NaN\n2020-07-31  ARK Resources Holdings Bhd.  44.88\n2020-06-30  ARK Resources Holdings Bhd.  44.93\n2020-05-31  ARK Resources Holdings Bhd.  44.97\n2020-04-30  ARK Resources Holdings Bhd.  45.69\n2020-03-31  ARK Resources Holdings Bhd.  34.09\n2020-02-29  ARK Resources Holdings Bhd.  34.26\n2020-01-31  ARK Resources Holdings Bhd.  34.33\n2019-12-31  ARK Resources Holdings Bhd.  34.35\n2019-11-30  ARK Resources Holdings Bhd.  34.39\n2019-10-31  ARK Resources Holdings Bhd.   34.4\n2019-09-30  ARK Resources Holdings Bhd.    NaN\n2019-08-31  ARK Resources Holdings Bhd.  34.42\n2019-07-31  ARK Resources Holdings Bhd.  34.49\n2019-06-30  ARK Resources Holdings Bhd.  34.49\n2019-05-31  ARK Resources Holdings Bhd.  34.51\n2019-04-30  ARK Resources Holdings Bhd.  34.56\n2019-03-31  ARK Resources Holdings Bhd.  34.75\n2019-02-28  ARK Resources Holdings Bhd.  34.71\n2019-01-31  ARK Resources Holdings Bhd.   34.7\n"
     ]
    }
   ],
   "source": [
    "sray_list_E=[]\n",
    "counter=0\n",
    "\n",
    "\n",
    "for i in range (0,len(E_19_20.columns)):\n",
    "    temp_df= pd.DataFrame(E_19_20.iloc[0:,i])\n",
    "\n",
    "    temp_df.insert(0, \"firm name\", companies_E[counter])\n",
    "\n",
    "    temp_df.columns.values[1]= \"e\"\n",
    "\n",
    "    sray_list_E.append(temp_df)\n",
    "\n",
    "    counter=counter+1\n",
    "\n",
    "print(counter)\n",
    "\n",
    "print(sray_list_E[5])"
   ]
  },
  {
   "cell_type": "code",
   "execution_count": 11,
   "metadata": {},
   "outputs": [
    {
     "output_type": "execute_result",
     "data": {
      "text/plain": [
       "           date                       firm name      e\n",
       "0    2020-12-31  7-Eleven Malaysia Holdings Bhd  51.62\n",
       "1    2020-11-30  7-Eleven Malaysia Holdings Bhd  51.05\n",
       "2    2020-10-31  7-Eleven Malaysia Holdings Bhd  51.04\n",
       "3    2020-09-30  7-Eleven Malaysia Holdings Bhd  51.07\n",
       "4    2020-08-31  7-Eleven Malaysia Holdings Bhd  51.07\n",
       "...         ...                             ...    ...\n",
       "6811 2019-05-31        Zhulian Corporation Bhd.  47.74\n",
       "6812 2019-04-30        Zhulian Corporation Bhd.  47.79\n",
       "6813 2019-03-31        Zhulian Corporation Bhd.  47.65\n",
       "6814 2019-02-28        Zhulian Corporation Bhd.  47.61\n",
       "6815 2019-01-31        Zhulian Corporation Bhd.  47.61\n",
       "\n",
       "[6816 rows x 3 columns]"
      ],
      "text/html": "<div>\n<style scoped>\n    .dataframe tbody tr th:only-of-type {\n        vertical-align: middle;\n    }\n\n    .dataframe tbody tr th {\n        vertical-align: top;\n    }\n\n    .dataframe thead th {\n        text-align: right;\n    }\n</style>\n<table border=\"1\" class=\"dataframe\">\n  <thead>\n    <tr style=\"text-align: right;\">\n      <th></th>\n      <th>date</th>\n      <th>firm name</th>\n      <th>e</th>\n    </tr>\n  </thead>\n  <tbody>\n    <tr>\n      <th>0</th>\n      <td>2020-12-31</td>\n      <td>7-Eleven Malaysia Holdings Bhd</td>\n      <td>51.62</td>\n    </tr>\n    <tr>\n      <th>1</th>\n      <td>2020-11-30</td>\n      <td>7-Eleven Malaysia Holdings Bhd</td>\n      <td>51.05</td>\n    </tr>\n    <tr>\n      <th>2</th>\n      <td>2020-10-31</td>\n      <td>7-Eleven Malaysia Holdings Bhd</td>\n      <td>51.04</td>\n    </tr>\n    <tr>\n      <th>3</th>\n      <td>2020-09-30</td>\n      <td>7-Eleven Malaysia Holdings Bhd</td>\n      <td>51.07</td>\n    </tr>\n    <tr>\n      <th>4</th>\n      <td>2020-08-31</td>\n      <td>7-Eleven Malaysia Holdings Bhd</td>\n      <td>51.07</td>\n    </tr>\n    <tr>\n      <th>...</th>\n      <td>...</td>\n      <td>...</td>\n      <td>...</td>\n    </tr>\n    <tr>\n      <th>6811</th>\n      <td>2019-05-31</td>\n      <td>Zhulian Corporation Bhd.</td>\n      <td>47.74</td>\n    </tr>\n    <tr>\n      <th>6812</th>\n      <td>2019-04-30</td>\n      <td>Zhulian Corporation Bhd.</td>\n      <td>47.79</td>\n    </tr>\n    <tr>\n      <th>6813</th>\n      <td>2019-03-31</td>\n      <td>Zhulian Corporation Bhd.</td>\n      <td>47.65</td>\n    </tr>\n    <tr>\n      <th>6814</th>\n      <td>2019-02-28</td>\n      <td>Zhulian Corporation Bhd.</td>\n      <td>47.61</td>\n    </tr>\n    <tr>\n      <th>6815</th>\n      <td>2019-01-31</td>\n      <td>Zhulian Corporation Bhd.</td>\n      <td>47.61</td>\n    </tr>\n  </tbody>\n</table>\n<p>6816 rows × 3 columns</p>\n</div>"
     },
     "metadata": {},
     "execution_count": 11
    }
   ],
   "source": [
    "sray_df_E= pd.concat(sray_list_E)\n",
    "sray_df_E.reset_index(level=0, inplace=True)\n",
    "\n",
    "sray_df_E.rename(columns={'index': 'date'}, inplace=True)\n",
    "sray_df_E"
   ]
  },
  {
   "cell_type": "code",
   "execution_count": 12,
   "metadata": {},
   "outputs": [
    {
     "output_type": "execute_result",
     "data": {
      "text/plain": [
       "                    7-Eleven Malaysia Holdings Bhd AEON Co. (Malaysia) Bhd.  \\\n",
       "2020-12-31 00:00:00                          67.81                    62.19   \n",
       "2020-11-30 00:00:00                          67.31                    61.69   \n",
       "2020-10-31 00:00:00                          67.42                    60.72   \n",
       "2020-09-30 00:00:00                          67.49                    60.79   \n",
       "2020-08-31 00:00:00                          67.48                    60.77   \n",
       "2020-07-31 00:00:00                          65.35                    61.01   \n",
       "2020-06-30 00:00:00                          65.41                    61.06   \n",
       "2020-05-31 00:00:00                          65.44                    61.08   \n",
       "2020-04-30 00:00:00                          65.93                    61.52   \n",
       "2020-03-31 00:00:00                          47.98                    61.76   \n",
       "2020-02-29 00:00:00                          48.18                    55.34   \n",
       "2020-01-31 00:00:00                          48.18                    55.35   \n",
       "2019-12-31 00:00:00                          48.19                    55.35   \n",
       "2019-11-30 00:00:00                          48.21                    55.37   \n",
       "2019-10-31 00:00:00                          47.83                    55.33   \n",
       "2019-09-30 00:00:00                          47.82                    55.32   \n",
       "2019-08-31 00:00:00                          47.84                    55.33   \n",
       "2019-07-31 00:00:00                          48.29                    55.43   \n",
       "2019-06-30 00:00:00                           48.3                    55.44   \n",
       "2019-05-31 00:00:00                           48.3                    55.45   \n",
       "2019-04-30 00:00:00                          48.36                     55.5   \n",
       "2019-03-31 00:00:00                          47.98                    56.44   \n",
       "2019-02-28 00:00:00                          47.89                    56.36   \n",
       "2019-01-31 00:00:00                          47.89                    56.36   \n",
       "\n",
       "                    AEON Credit Service (M) Bhd. AMMB Holdings Bhd.  \\\n",
       "2020-12-31 00:00:00                        66.64               68.2   \n",
       "2020-11-30 00:00:00                        67.13              67.76   \n",
       "2020-10-31 00:00:00                        67.25              67.07   \n",
       "2020-09-30 00:00:00                        68.54              68.46   \n",
       "2020-08-31 00:00:00                        68.52              68.41   \n",
       "2020-07-31 00:00:00                        68.93              70.04   \n",
       "2020-06-30 00:00:00                        67.77              71.31   \n",
       "2020-05-31 00:00:00                        67.82              71.38   \n",
       "2020-04-30 00:00:00                        68.29              71.77   \n",
       "2020-03-31 00:00:00                         55.4               61.1   \n",
       "2020-02-29 00:00:00                        55.58              61.27   \n",
       "2020-01-31 00:00:00                         55.6              61.83   \n",
       "2019-12-31 00:00:00                         55.6              61.89   \n",
       "2019-11-30 00:00:00                        55.62              60.35   \n",
       "2019-10-31 00:00:00                        55.56              60.59   \n",
       "2019-09-30 00:00:00                        55.53              60.29   \n",
       "2019-08-31 00:00:00                        55.57              60.05   \n",
       "2019-07-31 00:00:00                        55.66              60.36   \n",
       "2019-06-30 00:00:00                        55.68              60.33   \n",
       "2019-05-31 00:00:00                        55.68              60.17   \n",
       "2019-04-30 00:00:00                        55.76               60.1   \n",
       "2019-03-31 00:00:00                        55.89              60.12   \n",
       "2019-02-28 00:00:00                        55.79              60.04   \n",
       "2019-01-31 00:00:00                         55.8              59.99   \n",
       "\n",
       "                    APM Automotive Holdings Bhd. ARK Resources Holdings Bhd.  \\\n",
       "2020-12-31 00:00:00                        64.69                        52.8   \n",
       "2020-11-30 00:00:00                        65.22                         NaN   \n",
       "2020-10-31 00:00:00                        65.33                         NaN   \n",
       "2020-09-30 00:00:00                        65.42                         NaN   \n",
       "2020-08-31 00:00:00                        65.42                         NaN   \n",
       "2020-07-31 00:00:00                        56.86                       59.94   \n",
       "2020-06-30 00:00:00                        56.91                       59.98   \n",
       "2020-05-31 00:00:00                        56.95                       60.02   \n",
       "2020-04-30 00:00:00                        57.43                       60.48   \n",
       "2020-03-31 00:00:00                        57.69                       38.72   \n",
       "2020-02-29 00:00:00                         46.8                       38.89   \n",
       "2020-01-31 00:00:00                         46.8                        38.9   \n",
       "2019-12-31 00:00:00                        46.81                        38.9   \n",
       "2019-11-30 00:00:00                        46.83                       38.92   \n",
       "2019-10-31 00:00:00                         46.9                       38.92   \n",
       "2019-09-30 00:00:00                        46.86                         NaN   \n",
       "2019-08-31 00:00:00                        46.88                        38.9   \n",
       "2019-07-31 00:00:00                        46.79                       38.85   \n",
       "2019-06-30 00:00:00                         46.8                       38.86   \n",
       "2019-05-31 00:00:00                        46.81                       38.87   \n",
       "2019-04-30 00:00:00                        46.85                        38.9   \n",
       "2019-03-31 00:00:00                        45.99                       38.79   \n",
       "2019-02-28 00:00:00                        45.89                       38.67   \n",
       "2019-01-31 00:00:00                        45.89                       38.67   \n",
       "\n",
       "                    Advance Synergy Bhd. Aemulus Holdings Bhd.  \\\n",
       "2020-12-31 00:00:00                58.01                 44.67   \n",
       "2020-11-30 00:00:00                58.71                 45.07   \n",
       "2020-10-31 00:00:00                58.82                  39.0   \n",
       "2020-09-30 00:00:00                56.93                 39.07   \n",
       "2020-08-31 00:00:00                56.17                 39.07   \n",
       "2020-07-31 00:00:00                55.51                 39.45   \n",
       "2020-06-30 00:00:00                55.57                 39.48   \n",
       "2020-05-31 00:00:00                55.61                  39.5   \n",
       "2020-04-30 00:00:00                 56.1                 39.97   \n",
       "2020-03-31 00:00:00                56.31                 40.25   \n",
       "2020-02-29 00:00:00                52.64                 38.05   \n",
       "2020-01-31 00:00:00                52.64                 38.06   \n",
       "2019-12-31 00:00:00                52.65                 38.06   \n",
       "2019-11-30 00:00:00                52.67                 38.09   \n",
       "2019-10-31 00:00:00                52.73                 38.06   \n",
       "2019-09-30 00:00:00                52.73                 38.03   \n",
       "2019-08-31 00:00:00                48.41                 38.07   \n",
       "2019-07-31 00:00:00                47.84                 38.13   \n",
       "2019-06-30 00:00:00                47.85                 38.14   \n",
       "2019-05-31 00:00:00                47.86                 38.14   \n",
       "2019-04-30 00:00:00                 47.9                 38.19   \n",
       "2019-03-31 00:00:00                47.39                 38.38   \n",
       "2019-02-28 00:00:00                47.28                 38.28   \n",
       "2019-01-31 00:00:00                47.28                 38.28   \n",
       "\n",
       "                    Affin Bank Bhd. AirAsia Group Bhd.  ...  \\\n",
       "2020-12-31 00:00:00           70.49               63.5  ...   \n",
       "2020-11-30 00:00:00           70.81               65.1  ...   \n",
       "2020-10-31 00:00:00           64.83              64.86  ...   \n",
       "2020-09-30 00:00:00           64.91              64.69  ...   \n",
       "2020-08-31 00:00:00           64.91              62.21  ...   \n",
       "2020-07-31 00:00:00           65.27              62.49  ...   \n",
       "2020-06-30 00:00:00           63.66              62.58  ...   \n",
       "2020-05-31 00:00:00           63.74               62.7  ...   \n",
       "2020-04-30 00:00:00            64.2              63.12  ...   \n",
       "2020-03-31 00:00:00           51.21              54.12  ...   \n",
       "2020-02-29 00:00:00           51.38              54.35  ...   \n",
       "2020-01-31 00:00:00           51.41              54.56  ...   \n",
       "2019-12-31 00:00:00           51.41               54.8  ...   \n",
       "2019-11-30 00:00:00           51.43              54.67  ...   \n",
       "2019-10-31 00:00:00           52.09              54.69  ...   \n",
       "2019-09-30 00:00:00           52.06              53.65  ...   \n",
       "2019-08-31 00:00:00           52.11              53.44  ...   \n",
       "2019-07-31 00:00:00           52.46              53.72  ...   \n",
       "2019-06-30 00:00:00           52.48              53.72  ...   \n",
       "2019-05-31 00:00:00           52.48              53.72  ...   \n",
       "2019-04-30 00:00:00           52.54              53.73  ...   \n",
       "2019-03-31 00:00:00           50.29              54.61  ...   \n",
       "2019-02-28 00:00:00            50.2              54.55  ...   \n",
       "2019-01-31 00:00:00           50.21              54.43  ...   \n",
       "\n",
       "                    United Plantations Bhd. Uzma Bhd. V.S. Industry Bhd.  \\\n",
       "2020-12-31 00:00:00                    66.5      64.9              66.93   \n",
       "2020-11-30 00:00:00                    66.4     64.57              66.93   \n",
       "2020-10-31 00:00:00                   66.49     64.66              67.02   \n",
       "2020-09-30 00:00:00                   66.84     54.24               68.6   \n",
       "2020-08-31 00:00:00                   66.82     54.23              68.58   \n",
       "2020-07-31 00:00:00                   67.27     54.58              68.96   \n",
       "2020-06-30 00:00:00                   66.71     54.63               69.0   \n",
       "2020-05-31 00:00:00                   66.72     54.65              69.52   \n",
       "2020-04-30 00:00:00                   67.17     55.13               70.0   \n",
       "2020-03-31 00:00:00                   66.95     42.95              49.45   \n",
       "2020-02-29 00:00:00                   67.13     43.14              49.65   \n",
       "2020-01-31 00:00:00                    64.4     43.14              49.64   \n",
       "2019-12-31 00:00:00                    64.4     43.15              49.64   \n",
       "2019-11-30 00:00:00                   60.59     43.17              49.66   \n",
       "2019-10-31 00:00:00                    60.6     42.74              49.45   \n",
       "2019-09-30 00:00:00                   60.56      42.7              49.41   \n",
       "2019-08-31 00:00:00                   55.06     42.73              49.44   \n",
       "2019-07-31 00:00:00                   55.08     43.31              49.48   \n",
       "2019-06-30 00:00:00                   55.08     43.32              49.48   \n",
       "2019-05-31 00:00:00                   55.09     43.33              49.49   \n",
       "2019-04-30 00:00:00                   55.13     43.37              49.54   \n",
       "2019-03-31 00:00:00                   54.74     42.91              50.43   \n",
       "2019-02-28 00:00:00                   54.64      42.8              50.39   \n",
       "2019-01-31 00:00:00                   54.64     42.79              50.39   \n",
       "\n",
       "                    WCT Holdings Bhd. Westports Holdings Bhd.  \\\n",
       "2020-12-31 00:00:00             66.72                   66.42   \n",
       "2020-11-30 00:00:00              66.0                   65.89   \n",
       "2020-10-31 00:00:00             66.13                   65.95   \n",
       "2020-09-30 00:00:00             66.22                   66.46   \n",
       "2020-08-31 00:00:00             66.22                   66.57   \n",
       "2020-07-31 00:00:00             69.44                   66.83   \n",
       "2020-06-30 00:00:00             69.48                    66.9   \n",
       "2020-05-31 00:00:00             69.51                   65.07   \n",
       "2020-04-30 00:00:00             69.98                    63.5   \n",
       "2020-03-31 00:00:00              61.3                   63.64   \n",
       "2020-02-29 00:00:00             61.47                   60.25   \n",
       "2020-01-31 00:00:00             61.49                   60.33   \n",
       "2019-12-31 00:00:00              61.5                   60.41   \n",
       "2019-11-30 00:00:00             61.52                   56.63   \n",
       "2019-10-31 00:00:00             61.25                   56.68   \n",
       "2019-09-30 00:00:00              61.2                   55.71   \n",
       "2019-08-31 00:00:00             61.24                   55.64   \n",
       "2019-07-31 00:00:00             61.76                   55.84   \n",
       "2019-06-30 00:00:00             61.77                   55.83   \n",
       "2019-05-31 00:00:00             61.78                   55.84   \n",
       "2019-04-30 00:00:00             61.82                   56.06   \n",
       "2019-03-31 00:00:00             61.44                   56.04   \n",
       "2019-02-28 00:00:00             61.32                   55.95   \n",
       "2019-01-31 00:00:00             61.32                   55.93   \n",
       "\n",
       "                    Xin Hwa Holdings Bhd. YTL Corp Bhd.  \\\n",
       "2020-12-31 00:00:00                 57.65         72.74   \n",
       "2020-11-30 00:00:00                 57.73         72.81   \n",
       "2020-10-31 00:00:00                 55.23         73.03   \n",
       "2020-09-30 00:00:00                 55.29         72.65   \n",
       "2020-08-31 00:00:00                 57.91         72.59   \n",
       "2020-07-31 00:00:00                 58.45         72.03   \n",
       "2020-06-30 00:00:00                 58.49         72.06   \n",
       "2020-05-31 00:00:00                 58.52         71.85   \n",
       "2020-04-30 00:00:00                  59.0         70.45   \n",
       "2020-03-31 00:00:00                 59.17         59.92   \n",
       "2020-02-29 00:00:00                 54.03          60.1   \n",
       "2020-01-31 00:00:00                 54.02         60.19   \n",
       "2019-12-31 00:00:00                 54.03         60.23   \n",
       "2019-11-30 00:00:00                 54.05         56.44   \n",
       "2019-10-31 00:00:00                 54.02         56.02   \n",
       "2019-09-30 00:00:00                 53.99         55.72   \n",
       "2019-08-31 00:00:00                  54.0         55.77   \n",
       "2019-07-31 00:00:00                 54.02          55.3   \n",
       "2019-06-30 00:00:00                 54.03         55.25   \n",
       "2019-05-31 00:00:00                 54.04         55.25   \n",
       "2019-04-30 00:00:00                 54.08         55.18   \n",
       "2019-03-31 00:00:00                 54.61         54.74   \n",
       "2019-02-28 00:00:00                 54.48         55.01   \n",
       "2019-01-31 00:00:00                 54.48         54.73   \n",
       "\n",
       "                    YTL Power International Bhd. Yinson Holdings Bhd.  \\\n",
       "2020-12-31 00:00:00                        73.24                73.04   \n",
       "2020-11-30 00:00:00                        73.27                73.07   \n",
       "2020-10-31 00:00:00                        73.73                73.16   \n",
       "2020-09-30 00:00:00                        73.78                 61.5   \n",
       "2020-08-31 00:00:00                        73.73                 61.5   \n",
       "2020-07-31 00:00:00                        69.15                60.71   \n",
       "2020-06-30 00:00:00                        67.72                60.76   \n",
       "2020-05-31 00:00:00                        67.52                60.79   \n",
       "2020-04-30 00:00:00                        67.94                61.26   \n",
       "2020-03-31 00:00:00                        51.28                45.93   \n",
       "2020-02-29 00:00:00                        51.48                46.09   \n",
       "2020-01-31 00:00:00                        51.55                46.09   \n",
       "2019-12-31 00:00:00                        51.61                46.09   \n",
       "2019-11-30 00:00:00                         51.6                46.11   \n",
       "2019-10-31 00:00:00                        51.29                46.05   \n",
       "2019-09-30 00:00:00                        51.01                46.02   \n",
       "2019-08-31 00:00:00                        50.82                46.02   \n",
       "2019-07-31 00:00:00                        50.52                46.23   \n",
       "2019-06-30 00:00:00                        50.48                46.24   \n",
       "2019-05-31 00:00:00                        50.45                46.24   \n",
       "2019-04-30 00:00:00                         50.4                46.28   \n",
       "2019-03-31 00:00:00                        50.15                47.04   \n",
       "2019-02-28 00:00:00                        41.81                46.91   \n",
       "2019-01-31 00:00:00                        41.81                46.91   \n",
       "\n",
       "                    Zhulian Corporation Bhd.  \n",
       "2020-12-31 00:00:00                    52.53  \n",
       "2020-11-30 00:00:00                    51.76  \n",
       "2020-10-31 00:00:00                    51.86  \n",
       "2020-09-30 00:00:00                    51.86  \n",
       "2020-08-31 00:00:00                    51.07  \n",
       "2020-07-31 00:00:00                    50.62  \n",
       "2020-06-30 00:00:00                    50.67  \n",
       "2020-05-31 00:00:00                    50.71  \n",
       "2020-04-30 00:00:00                    51.18  \n",
       "2020-03-31 00:00:00                    49.65  \n",
       "2020-02-29 00:00:00                    49.85  \n",
       "2020-01-31 00:00:00                    49.86  \n",
       "2019-12-31 00:00:00                    49.87  \n",
       "2019-11-30 00:00:00                    49.89  \n",
       "2019-10-31 00:00:00                    49.98  \n",
       "2019-09-30 00:00:00                    49.95  \n",
       "2019-08-31 00:00:00                    49.97  \n",
       "2019-07-31 00:00:00                    49.83  \n",
       "2019-06-30 00:00:00                    49.83  \n",
       "2019-05-31 00:00:00                    49.84  \n",
       "2019-04-30 00:00:00                    49.88  \n",
       "2019-03-31 00:00:00                    49.65  \n",
       "2019-02-28 00:00:00                    49.53  \n",
       "2019-01-31 00:00:00                    49.53  \n",
       "\n",
       "[24 rows x 285 columns]"
      ],
      "text/html": "<div>\n<style scoped>\n    .dataframe tbody tr th:only-of-type {\n        vertical-align: middle;\n    }\n\n    .dataframe tbody tr th {\n        vertical-align: top;\n    }\n\n    .dataframe thead th {\n        text-align: right;\n    }\n</style>\n<table border=\"1\" class=\"dataframe\">\n  <thead>\n    <tr style=\"text-align: right;\">\n      <th></th>\n      <th>7-Eleven Malaysia Holdings Bhd</th>\n      <th>AEON Co. (Malaysia) Bhd.</th>\n      <th>AEON Credit Service (M) Bhd.</th>\n      <th>AMMB Holdings Bhd.</th>\n      <th>APM Automotive Holdings Bhd.</th>\n      <th>ARK Resources Holdings Bhd.</th>\n      <th>Advance Synergy Bhd.</th>\n      <th>Aemulus Holdings Bhd.</th>\n      <th>Affin Bank Bhd.</th>\n      <th>AirAsia Group Bhd.</th>\n      <th>...</th>\n      <th>United Plantations Bhd.</th>\n      <th>Uzma Bhd.</th>\n      <th>V.S. Industry Bhd.</th>\n      <th>WCT Holdings Bhd.</th>\n      <th>Westports Holdings Bhd.</th>\n      <th>Xin Hwa Holdings Bhd.</th>\n      <th>YTL Corp Bhd.</th>\n      <th>YTL Power International Bhd.</th>\n      <th>Yinson Holdings Bhd.</th>\n      <th>Zhulian Corporation Bhd.</th>\n    </tr>\n  </thead>\n  <tbody>\n    <tr>\n      <th>2020-12-31 00:00:00</th>\n      <td>67.81</td>\n      <td>62.19</td>\n      <td>66.64</td>\n      <td>68.2</td>\n      <td>64.69</td>\n      <td>52.8</td>\n      <td>58.01</td>\n      <td>44.67</td>\n      <td>70.49</td>\n      <td>63.5</td>\n      <td>...</td>\n      <td>66.5</td>\n      <td>64.9</td>\n      <td>66.93</td>\n      <td>66.72</td>\n      <td>66.42</td>\n      <td>57.65</td>\n      <td>72.74</td>\n      <td>73.24</td>\n      <td>73.04</td>\n      <td>52.53</td>\n    </tr>\n    <tr>\n      <th>2020-11-30 00:00:00</th>\n      <td>67.31</td>\n      <td>61.69</td>\n      <td>67.13</td>\n      <td>67.76</td>\n      <td>65.22</td>\n      <td>NaN</td>\n      <td>58.71</td>\n      <td>45.07</td>\n      <td>70.81</td>\n      <td>65.1</td>\n      <td>...</td>\n      <td>66.4</td>\n      <td>64.57</td>\n      <td>66.93</td>\n      <td>66.0</td>\n      <td>65.89</td>\n      <td>57.73</td>\n      <td>72.81</td>\n      <td>73.27</td>\n      <td>73.07</td>\n      <td>51.76</td>\n    </tr>\n    <tr>\n      <th>2020-10-31 00:00:00</th>\n      <td>67.42</td>\n      <td>60.72</td>\n      <td>67.25</td>\n      <td>67.07</td>\n      <td>65.33</td>\n      <td>NaN</td>\n      <td>58.82</td>\n      <td>39.0</td>\n      <td>64.83</td>\n      <td>64.86</td>\n      <td>...</td>\n      <td>66.49</td>\n      <td>64.66</td>\n      <td>67.02</td>\n      <td>66.13</td>\n      <td>65.95</td>\n      <td>55.23</td>\n      <td>73.03</td>\n      <td>73.73</td>\n      <td>73.16</td>\n      <td>51.86</td>\n    </tr>\n    <tr>\n      <th>2020-09-30 00:00:00</th>\n      <td>67.49</td>\n      <td>60.79</td>\n      <td>68.54</td>\n      <td>68.46</td>\n      <td>65.42</td>\n      <td>NaN</td>\n      <td>56.93</td>\n      <td>39.07</td>\n      <td>64.91</td>\n      <td>64.69</td>\n      <td>...</td>\n      <td>66.84</td>\n      <td>54.24</td>\n      <td>68.6</td>\n      <td>66.22</td>\n      <td>66.46</td>\n      <td>55.29</td>\n      <td>72.65</td>\n      <td>73.78</td>\n      <td>61.5</td>\n      <td>51.86</td>\n    </tr>\n    <tr>\n      <th>2020-08-31 00:00:00</th>\n      <td>67.48</td>\n      <td>60.77</td>\n      <td>68.52</td>\n      <td>68.41</td>\n      <td>65.42</td>\n      <td>NaN</td>\n      <td>56.17</td>\n      <td>39.07</td>\n      <td>64.91</td>\n      <td>62.21</td>\n      <td>...</td>\n      <td>66.82</td>\n      <td>54.23</td>\n      <td>68.58</td>\n      <td>66.22</td>\n      <td>66.57</td>\n      <td>57.91</td>\n      <td>72.59</td>\n      <td>73.73</td>\n      <td>61.5</td>\n      <td>51.07</td>\n    </tr>\n    <tr>\n      <th>2020-07-31 00:00:00</th>\n      <td>65.35</td>\n      <td>61.01</td>\n      <td>68.93</td>\n      <td>70.04</td>\n      <td>56.86</td>\n      <td>59.94</td>\n      <td>55.51</td>\n      <td>39.45</td>\n      <td>65.27</td>\n      <td>62.49</td>\n      <td>...</td>\n      <td>67.27</td>\n      <td>54.58</td>\n      <td>68.96</td>\n      <td>69.44</td>\n      <td>66.83</td>\n      <td>58.45</td>\n      <td>72.03</td>\n      <td>69.15</td>\n      <td>60.71</td>\n      <td>50.62</td>\n    </tr>\n    <tr>\n      <th>2020-06-30 00:00:00</th>\n      <td>65.41</td>\n      <td>61.06</td>\n      <td>67.77</td>\n      <td>71.31</td>\n      <td>56.91</td>\n      <td>59.98</td>\n      <td>55.57</td>\n      <td>39.48</td>\n      <td>63.66</td>\n      <td>62.58</td>\n      <td>...</td>\n      <td>66.71</td>\n      <td>54.63</td>\n      <td>69.0</td>\n      <td>69.48</td>\n      <td>66.9</td>\n      <td>58.49</td>\n      <td>72.06</td>\n      <td>67.72</td>\n      <td>60.76</td>\n      <td>50.67</td>\n    </tr>\n    <tr>\n      <th>2020-05-31 00:00:00</th>\n      <td>65.44</td>\n      <td>61.08</td>\n      <td>67.82</td>\n      <td>71.38</td>\n      <td>56.95</td>\n      <td>60.02</td>\n      <td>55.61</td>\n      <td>39.5</td>\n      <td>63.74</td>\n      <td>62.7</td>\n      <td>...</td>\n      <td>66.72</td>\n      <td>54.65</td>\n      <td>69.52</td>\n      <td>69.51</td>\n      <td>65.07</td>\n      <td>58.52</td>\n      <td>71.85</td>\n      <td>67.52</td>\n      <td>60.79</td>\n      <td>50.71</td>\n    </tr>\n    <tr>\n      <th>2020-04-30 00:00:00</th>\n      <td>65.93</td>\n      <td>61.52</td>\n      <td>68.29</td>\n      <td>71.77</td>\n      <td>57.43</td>\n      <td>60.48</td>\n      <td>56.1</td>\n      <td>39.97</td>\n      <td>64.2</td>\n      <td>63.12</td>\n      <td>...</td>\n      <td>67.17</td>\n      <td>55.13</td>\n      <td>70.0</td>\n      <td>69.98</td>\n      <td>63.5</td>\n      <td>59.0</td>\n      <td>70.45</td>\n      <td>67.94</td>\n      <td>61.26</td>\n      <td>51.18</td>\n    </tr>\n    <tr>\n      <th>2020-03-31 00:00:00</th>\n      <td>47.98</td>\n      <td>61.76</td>\n      <td>55.4</td>\n      <td>61.1</td>\n      <td>57.69</td>\n      <td>38.72</td>\n      <td>56.31</td>\n      <td>40.25</td>\n      <td>51.21</td>\n      <td>54.12</td>\n      <td>...</td>\n      <td>66.95</td>\n      <td>42.95</td>\n      <td>49.45</td>\n      <td>61.3</td>\n      <td>63.64</td>\n      <td>59.17</td>\n      <td>59.92</td>\n      <td>51.28</td>\n      <td>45.93</td>\n      <td>49.65</td>\n    </tr>\n    <tr>\n      <th>2020-02-29 00:00:00</th>\n      <td>48.18</td>\n      <td>55.34</td>\n      <td>55.58</td>\n      <td>61.27</td>\n      <td>46.8</td>\n      <td>38.89</td>\n      <td>52.64</td>\n      <td>38.05</td>\n      <td>51.38</td>\n      <td>54.35</td>\n      <td>...</td>\n      <td>67.13</td>\n      <td>43.14</td>\n      <td>49.65</td>\n      <td>61.47</td>\n      <td>60.25</td>\n      <td>54.03</td>\n      <td>60.1</td>\n      <td>51.48</td>\n      <td>46.09</td>\n      <td>49.85</td>\n    </tr>\n    <tr>\n      <th>2020-01-31 00:00:00</th>\n      <td>48.18</td>\n      <td>55.35</td>\n      <td>55.6</td>\n      <td>61.83</td>\n      <td>46.8</td>\n      <td>38.9</td>\n      <td>52.64</td>\n      <td>38.06</td>\n      <td>51.41</td>\n      <td>54.56</td>\n      <td>...</td>\n      <td>64.4</td>\n      <td>43.14</td>\n      <td>49.64</td>\n      <td>61.49</td>\n      <td>60.33</td>\n      <td>54.02</td>\n      <td>60.19</td>\n      <td>51.55</td>\n      <td>46.09</td>\n      <td>49.86</td>\n    </tr>\n    <tr>\n      <th>2019-12-31 00:00:00</th>\n      <td>48.19</td>\n      <td>55.35</td>\n      <td>55.6</td>\n      <td>61.89</td>\n      <td>46.81</td>\n      <td>38.9</td>\n      <td>52.65</td>\n      <td>38.06</td>\n      <td>51.41</td>\n      <td>54.8</td>\n      <td>...</td>\n      <td>64.4</td>\n      <td>43.15</td>\n      <td>49.64</td>\n      <td>61.5</td>\n      <td>60.41</td>\n      <td>54.03</td>\n      <td>60.23</td>\n      <td>51.61</td>\n      <td>46.09</td>\n      <td>49.87</td>\n    </tr>\n    <tr>\n      <th>2019-11-30 00:00:00</th>\n      <td>48.21</td>\n      <td>55.37</td>\n      <td>55.62</td>\n      <td>60.35</td>\n      <td>46.83</td>\n      <td>38.92</td>\n      <td>52.67</td>\n      <td>38.09</td>\n      <td>51.43</td>\n      <td>54.67</td>\n      <td>...</td>\n      <td>60.59</td>\n      <td>43.17</td>\n      <td>49.66</td>\n      <td>61.52</td>\n      <td>56.63</td>\n      <td>54.05</td>\n      <td>56.44</td>\n      <td>51.6</td>\n      <td>46.11</td>\n      <td>49.89</td>\n    </tr>\n    <tr>\n      <th>2019-10-31 00:00:00</th>\n      <td>47.83</td>\n      <td>55.33</td>\n      <td>55.56</td>\n      <td>60.59</td>\n      <td>46.9</td>\n      <td>38.92</td>\n      <td>52.73</td>\n      <td>38.06</td>\n      <td>52.09</td>\n      <td>54.69</td>\n      <td>...</td>\n      <td>60.6</td>\n      <td>42.74</td>\n      <td>49.45</td>\n      <td>61.25</td>\n      <td>56.68</td>\n      <td>54.02</td>\n      <td>56.02</td>\n      <td>51.29</td>\n      <td>46.05</td>\n      <td>49.98</td>\n    </tr>\n    <tr>\n      <th>2019-09-30 00:00:00</th>\n      <td>47.82</td>\n      <td>55.32</td>\n      <td>55.53</td>\n      <td>60.29</td>\n      <td>46.86</td>\n      <td>NaN</td>\n      <td>52.73</td>\n      <td>38.03</td>\n      <td>52.06</td>\n      <td>53.65</td>\n      <td>...</td>\n      <td>60.56</td>\n      <td>42.7</td>\n      <td>49.41</td>\n      <td>61.2</td>\n      <td>55.71</td>\n      <td>53.99</td>\n      <td>55.72</td>\n      <td>51.01</td>\n      <td>46.02</td>\n      <td>49.95</td>\n    </tr>\n    <tr>\n      <th>2019-08-31 00:00:00</th>\n      <td>47.84</td>\n      <td>55.33</td>\n      <td>55.57</td>\n      <td>60.05</td>\n      <td>46.88</td>\n      <td>38.9</td>\n      <td>48.41</td>\n      <td>38.07</td>\n      <td>52.11</td>\n      <td>53.44</td>\n      <td>...</td>\n      <td>55.06</td>\n      <td>42.73</td>\n      <td>49.44</td>\n      <td>61.24</td>\n      <td>55.64</td>\n      <td>54.0</td>\n      <td>55.77</td>\n      <td>50.82</td>\n      <td>46.02</td>\n      <td>49.97</td>\n    </tr>\n    <tr>\n      <th>2019-07-31 00:00:00</th>\n      <td>48.29</td>\n      <td>55.43</td>\n      <td>55.66</td>\n      <td>60.36</td>\n      <td>46.79</td>\n      <td>38.85</td>\n      <td>47.84</td>\n      <td>38.13</td>\n      <td>52.46</td>\n      <td>53.72</td>\n      <td>...</td>\n      <td>55.08</td>\n      <td>43.31</td>\n      <td>49.48</td>\n      <td>61.76</td>\n      <td>55.84</td>\n      <td>54.02</td>\n      <td>55.3</td>\n      <td>50.52</td>\n      <td>46.23</td>\n      <td>49.83</td>\n    </tr>\n    <tr>\n      <th>2019-06-30 00:00:00</th>\n      <td>48.3</td>\n      <td>55.44</td>\n      <td>55.68</td>\n      <td>60.33</td>\n      <td>46.8</td>\n      <td>38.86</td>\n      <td>47.85</td>\n      <td>38.14</td>\n      <td>52.48</td>\n      <td>53.72</td>\n      <td>...</td>\n      <td>55.08</td>\n      <td>43.32</td>\n      <td>49.48</td>\n      <td>61.77</td>\n      <td>55.83</td>\n      <td>54.03</td>\n      <td>55.25</td>\n      <td>50.48</td>\n      <td>46.24</td>\n      <td>49.83</td>\n    </tr>\n    <tr>\n      <th>2019-05-31 00:00:00</th>\n      <td>48.3</td>\n      <td>55.45</td>\n      <td>55.68</td>\n      <td>60.17</td>\n      <td>46.81</td>\n      <td>38.87</td>\n      <td>47.86</td>\n      <td>38.14</td>\n      <td>52.48</td>\n      <td>53.72</td>\n      <td>...</td>\n      <td>55.09</td>\n      <td>43.33</td>\n      <td>49.49</td>\n      <td>61.78</td>\n      <td>55.84</td>\n      <td>54.04</td>\n      <td>55.25</td>\n      <td>50.45</td>\n      <td>46.24</td>\n      <td>49.84</td>\n    </tr>\n    <tr>\n      <th>2019-04-30 00:00:00</th>\n      <td>48.36</td>\n      <td>55.5</td>\n      <td>55.76</td>\n      <td>60.1</td>\n      <td>46.85</td>\n      <td>38.9</td>\n      <td>47.9</td>\n      <td>38.19</td>\n      <td>52.54</td>\n      <td>53.73</td>\n      <td>...</td>\n      <td>55.13</td>\n      <td>43.37</td>\n      <td>49.54</td>\n      <td>61.82</td>\n      <td>56.06</td>\n      <td>54.08</td>\n      <td>55.18</td>\n      <td>50.4</td>\n      <td>46.28</td>\n      <td>49.88</td>\n    </tr>\n    <tr>\n      <th>2019-03-31 00:00:00</th>\n      <td>47.98</td>\n      <td>56.44</td>\n      <td>55.89</td>\n      <td>60.12</td>\n      <td>45.99</td>\n      <td>38.79</td>\n      <td>47.39</td>\n      <td>38.38</td>\n      <td>50.29</td>\n      <td>54.61</td>\n      <td>...</td>\n      <td>54.74</td>\n      <td>42.91</td>\n      <td>50.43</td>\n      <td>61.44</td>\n      <td>56.04</td>\n      <td>54.61</td>\n      <td>54.74</td>\n      <td>50.15</td>\n      <td>47.04</td>\n      <td>49.65</td>\n    </tr>\n    <tr>\n      <th>2019-02-28 00:00:00</th>\n      <td>47.89</td>\n      <td>56.36</td>\n      <td>55.79</td>\n      <td>60.04</td>\n      <td>45.89</td>\n      <td>38.67</td>\n      <td>47.28</td>\n      <td>38.28</td>\n      <td>50.2</td>\n      <td>54.55</td>\n      <td>...</td>\n      <td>54.64</td>\n      <td>42.8</td>\n      <td>50.39</td>\n      <td>61.32</td>\n      <td>55.95</td>\n      <td>54.48</td>\n      <td>55.01</td>\n      <td>41.81</td>\n      <td>46.91</td>\n      <td>49.53</td>\n    </tr>\n    <tr>\n      <th>2019-01-31 00:00:00</th>\n      <td>47.89</td>\n      <td>56.36</td>\n      <td>55.8</td>\n      <td>59.99</td>\n      <td>45.89</td>\n      <td>38.67</td>\n      <td>47.28</td>\n      <td>38.28</td>\n      <td>50.21</td>\n      <td>54.43</td>\n      <td>...</td>\n      <td>54.64</td>\n      <td>42.79</td>\n      <td>50.39</td>\n      <td>61.32</td>\n      <td>55.93</td>\n      <td>54.48</td>\n      <td>54.73</td>\n      <td>41.81</td>\n      <td>46.91</td>\n      <td>49.53</td>\n    </tr>\n  </tbody>\n</table>\n<p>24 rows × 285 columns</p>\n</div>"
     },
     "metadata": {},
     "execution_count": 12
    }
   ],
   "source": [
    "S_19_20= S_19_20.transpose()\n",
    "S_19_20.columns= S_19_20.iloc[0]\n",
    "S_19_20=S_19_20[1:]\n",
    "S_19_20 = S_19_20.rename_axis(index=(None), columns=None)\n",
    "S_19_20"
   ]
  },
  {
   "cell_type": "code",
   "execution_count": 13,
   "metadata": {},
   "outputs": [
    {
     "output_type": "stream",
     "name": "stdout",
     "text": [
      "['7-Eleven Malaysia Holdings Bhd', 'AEON Co. (Malaysia) Bhd.', 'AEON Credit Service (M) Bhd.', 'AMMB Holdings Bhd.', 'APM Automotive Holdings Bhd.', 'ARK Resources Holdings Bhd.', 'Advance Synergy Bhd.', 'Aemulus Holdings Bhd.', 'Affin Bank Bhd.', 'AirAsia Group Bhd.', 'AirAsia X Bhd.', \"Al-'Aqar Healthcare REIT\", 'Al-Salam Real Estate Investment Trust', 'Alam Maritim Resources Bhd.', 'Alcom Group Bhd.', 'Alliance Bank Malaysia Bhd.', 'Allianz Malaysia Bhd.', 'AmFIRST Real Estate Investment Trust', 'Amalgamated Industrial Steel Bhd.', 'Amanah Harta Tanah Pnb', 'Amcorp Properties Bhd.', 'Amverton Bhd', 'Amway (Malaysia) Holdings Bhd.', 'Ancom Bhd.', 'Ann Joo Resources Bhd.', 'Apex Equity Holdings Bhd.', 'Asia File Corporation Bhd.', 'Asian Pac Holdings Bhd.', 'Astro Malaysia Holdings Bhd.', 'Atlan Holdings Bhd.', 'AwanBiru Technology Bhd.', 'Axiata Group Bhd.', 'Axis Real Estate Investment Trust', 'BCB BHD', 'BIMB Holdings Bhd.', 'BLD Plantation Bhd.', 'Barakah Offshore Petroleum Bhd.', 'Batu Kawan Bhd.', 'Benalec Holdings Bhd.', 'Berjaya Assets Bhd.', 'Berjaya Corp. Bhd.', 'Berjaya Food Bhd.', 'Berjaya Land Bhd.', 'Berjaya Sports Toto Bhd.', 'Bermaz Auto Berhad', 'Bintulu Port Holdings Bhd.', 'Bioalpha Holdings Bhd.', 'Boilermech Holdings Bhd.', 'Bonia Corp. Bhd.', 'Boustead Heavy Industries Corporation Bhd.', 'Boustead Holdings Bhd.', 'Boustead Plantations Bhd.', 'Brem Holding Bhd.', 'British American Tobacco Malaysia Bhd.', 'Bumi Armada Bhd.', 'Bursa Malaysia Bhd.', 'C.I. Holdings Bhd.', 'CB Industrial Product Holding Bhd.', 'CIMB Group Holdings Bhd', 'CSC Steel Holdings Bhd.', 'Cahya Mata Sarawak Bhd.', 'CapitaLand Malaysia Mall Trust', 'Carimin Petroleum Bhd', 'Carlsberg Brewery Malaysia Bhd.', 'Chemical Co. of Malaysia Bhd.', 'Chin Hin Group Bhd', 'Choo Bee Metal Industries Bhd.', 'Coastal Contracts Bhd.', 'Comfort Gloves Bhd.', 'Concrete Engineering Products Bhd.', 'Country Heights Holdings Bhd.', 'Crescendo Corp. Bhd.', 'Cycle & Carriage Bintang Bhd.', 'DKLS Industries Bhd.', 'DKSH Holdings (Malaysia) Bhd.', 'DRB-Hicom Bhd.', 'Dagang NeXchange Berhad', 'Daibochi Bhd.', 'Daiman Development Bhd', 'Damansara Holdings Bhd.', 'Dataprep Holdings Bhd.', 'Datasonic Group Bhd.', 'Dayang Enterprise Holdings Bhd.', 'Deleum Bhd.', 'DiGi.Com Bhd', 'Dialog Group Bhd.', 'Dolphin International Bhd', 'DutaLand Bhd.', 'Dutch Lady Milk Industries Bhd.', 'ECM Libra Group Bhd.', 'Eastern & Oriental Bhd.', 'Eco World Development Group Bhd.', 'EcoFirst Consolidated Bhd', 'Econpile Holdings Bhd', 'Ekovest Bhd.', 'Encorp Bhd.', 'Evergreen Fibreboard Bhd.', 'Eversendai Corp Bhd.', 'FACB Industries Inc. Bhd.', 'FGV Holdings Bhd.', 'Far East Holdings Bhd.', 'Favelle Favco Bhd.', 'Fraser & Neave Holdings Bhd.', 'GD Express Carrier Bhd.', 'GDEX Berhad', 'GUH Holdings Bhd.', 'Gamuda Bhd.', 'Gas Malaysia Bhd.', 'Genting Bhd.', 'Genting Malaysia Bhd.', 'Genting Plantations Bhd.', 'George Kent (Malaysia) Bhd.', 'Globetronics Technology Bhd.', 'Glomac Bhd.', 'Golden Pharos Bhd.', 'Green Packet Bhd.', 'Guan Chong Bhd.', 'Hap Seng Consolidated Bhd.', 'Hap Seng Plantations Holdings Bhd.', 'Harbour-Link Group Bhd.', 'Hartalega Holdings Bhd.', 'Heng Huat Resources Group Bhd', 'Hengyuan Refining Company Bhd', 'Hiap Teck Venture Bhd.', 'Hibiscus Petroleum Bhd.', 'Ho Hup Construction Co. Bhd.', 'Hock Seng Lee Bhd.', 'Hong Leong Bank Bhd.', 'Hong Leong Financial Group Bhd.', 'Hong Leong Industries Bhd.', 'Hubline Bhd.', 'Hume Industries Berhad', 'Hup Seng Industries Bhd.', 'Hwa Tai Industries Bhd.', 'IGB Bhd.', 'IGB Corp Bhd.', 'IGB Real Estate Investment Trust', 'IHH Healthcare Bhd.', 'IJM Corp. Bhd.', 'IJM Plantations Bhd.', 'IOI Corp. Bhd.', 'IOI Properties Group Bhd.', 'IRIS Corp. Bhd.', 'Icon Offshore Bhd', 'Ikhmas Jaya Group Bhd.', 'Inari Amertron Berhad', 'Insas Bhd.', 'Iskandar Waterfront City Berhad', 'JCY International Bhd.', 'Jasa Kita Bhd.', 'KLCC Property Holdings Bhd.', 'KPJ Healthcare Bhd.', 'KSL Holdings Bhd.', 'Karex Bhd.', 'Kian Joo Can Factory Bhd.', 'Kim Hin Industry Bhd.', 'Kossan Rubber Industries Bhd.', 'Kretam Holdings Bhd.', 'Kronologi Asia Bhd.', 'Kuala Lumpur Kepong Bhd.', 'LBS Bina Group Bhd.', 'LPI Capital Bhd', 'Lafarge Malaysia Bhd.', 'Lingkaran Trans Kota Holdings Bhd.', 'Lynas Corporation Limited', 'Lynas Rare Earths Limited', 'MCT Bhd.', 'MGB Bhd', 'MISC Bhd', 'MK Land Holdings Bhd.', 'MMC Corp. Bhd.', 'MSM Malaysia Holdings Bhd.', 'Mah Sing Group Bhd.', 'Malakoff Corporation Bhd', 'Malayan Banking Bhd.', 'Malayan Cement Bhd', 'Malaysia Airports Holdings Bhd.', 'Malaysia Marine & Heavy Engineering Holdings Bhd.', 'Malaysian Bulk Carriers Bhd.', 'Malaysian Pacific Industries Bhd.', 'Malaysian Resources Corp. Bhd.', 'Marco Holdings Bhd.', 'Matrix Concepts Holdings Bhd.', 'Maxim Global Bhd.', 'Maxis Bhd.', 'Media Prima Bhd.', 'Mega First Corp. Bhd.', 'Minda Global Bhd.', 'Minho (Malaysia) Bhd.', 'Muda Holdings Bhd.', 'Mudajaya Group Bhd.', 'Muhibbah Engineering (M) Bhd.', 'My E.G. Services Bhd.', 'Mynews Holdings Bhd', 'NTPM Holdings Bhd.', 'Naim Holdings Bhd.', 'Nestle (Malaysia) Bhd.', 'Nylex (Malaysia) Bhd.', 'Oldtown Bhd.', 'Olympia Industries Bhd.', 'PETRONAS Chemicals Group Bhd.', 'PPB Group Bhd.', 'Pacific & Orient Bhd.', 'Padini Holdings Bhd.', 'Pan Malaysia Corp. Bhd.', 'Pan Malaysia Holdings Bhd.', 'Panasonic Manufacturing Malaysia Bhd.', 'Pansar Bhd.', 'Paragon Globe Berhad', 'Paramount Corp. Bhd.', 'Parkson Holdings Bhd.', 'Parkwood Holdings Bhd.', 'Pavilion Real Estate Investment Trust', 'Pegasus Heights Bhd', 'Pegasus Heights Bhd.', 'Pestech International Bhd.', 'Petronas Dagangan Bhd.', 'Petronas Gas Bhd.', 'Pharmaniaga Bhd.', 'Plenitude Bhd.', 'Pos Malaysia Bhd.', 'Press Metal Aluminium Holdings Berhad', 'Prestariang Bhd.', 'Prolexus Bhd.', 'Protasco Bhd.', 'Public Bank Bhd', 'PureCircle Limited', 'QL Resources Bhd.', 'RHB Bank Bhd.', 'Ranhill Utilities Bhd.', 'S P Setia Bhd.', 'SAM Engineering & Equipment (M) Bhd.', 'SEG International Bhd.', 'SKP Resources Bhd.', 'Sapura Energy Bhd', 'Scientex Bhd.', 'Scomi Energy Services Bhd.', 'Seal Incorporation Bhd', 'Selangor Properties Bhd.', 'Serba Dinamik Holdings Bhd', 'Sime Darby Bhd.', 'Sime Darby Plantation Bhd.', 'Sime Darby Property Bhd.', 'Sumatec Resources Bhd.', 'Sunway Bhd.', 'Sunway Construction Group Bhd.', 'Sunway Real Estate Investment Trust', 'Supermax Corp. Bhd.', 'Suria Capital Holdings Bhd.', 'Syarikat Takaful Malaysia Keluarga Bhd.', 'TDM Bhd.', 'TH Heavy Engineering Bhd.', 'TH Plantations Bhd.', 'TIME dotCom Bhd.', 'TSH Resources Bhd.', 'Ta Ann Holdings Bhd.', 'Tadmax Resources Bhd.', 'Talam Transform Berhad', 'Taliworks Corp. Bhd.', 'Tambun Indah Land Bhd.', 'Telekom Malaysia Bhd.', 'Tenaga Nasional Bhd', 'Three-A Resources Bhd.', 'Tiong Nam Logistics Holdings Bhd.', 'Titijaya Land Bhd.', 'Top Builders Capital Bhd.', 'Top Glove Corporation Bhd.', 'Tune Protect Group Bhd.', 'UEM Edgenta Bhd.', 'UEM Sunrise Bhd.', 'UMW Holdings Bhd', 'UOA Development Bhd.', 'Uchi Technologies Bhd.', 'Unisem (M) Bhd.', 'United Malacca Bhd.', 'United Plantations Bhd.', 'Uzma Bhd.', 'V.S. Industry Bhd.', 'WCT Holdings Bhd.', 'Westports Holdings Bhd.', 'Xin Hwa Holdings Bhd.', 'YTL Corp Bhd.', 'YTL Power International Bhd.', 'Yinson Holdings Bhd.', 'Zhulian Corporation Bhd.']\n"
     ]
    },
    {
     "output_type": "execute_result",
     "data": {
      "text/plain": [
       "285"
      ]
     },
     "metadata": {},
     "execution_count": 13
    }
   ],
   "source": [
    "companies_S= pd.read_excel(sray_19_20, sheet_name=\"S\").iloc[:,0]\n",
    "\n",
    "companies_S=companies_S.tolist()\n",
    "\n",
    "print(companies_S)\n",
    "len(companies_S)"
   ]
  },
  {
   "cell_type": "code",
   "execution_count": 14,
   "metadata": {},
   "outputs": [
    {
     "output_type": "stream",
     "name": "stdout",
     "text": [
      "285\n                              firm name      s\n2020-12-31  ARK Resources Holdings Bhd.   52.8\n2020-11-30  ARK Resources Holdings Bhd.    NaN\n2020-10-31  ARK Resources Holdings Bhd.    NaN\n2020-09-30  ARK Resources Holdings Bhd.    NaN\n2020-08-31  ARK Resources Holdings Bhd.    NaN\n2020-07-31  ARK Resources Holdings Bhd.  59.94\n2020-06-30  ARK Resources Holdings Bhd.  59.98\n2020-05-31  ARK Resources Holdings Bhd.  60.02\n2020-04-30  ARK Resources Holdings Bhd.  60.48\n2020-03-31  ARK Resources Holdings Bhd.  38.72\n2020-02-29  ARK Resources Holdings Bhd.  38.89\n2020-01-31  ARK Resources Holdings Bhd.   38.9\n2019-12-31  ARK Resources Holdings Bhd.   38.9\n2019-11-30  ARK Resources Holdings Bhd.  38.92\n2019-10-31  ARK Resources Holdings Bhd.  38.92\n2019-09-30  ARK Resources Holdings Bhd.    NaN\n2019-08-31  ARK Resources Holdings Bhd.   38.9\n2019-07-31  ARK Resources Holdings Bhd.  38.85\n2019-06-30  ARK Resources Holdings Bhd.  38.86\n2019-05-31  ARK Resources Holdings Bhd.  38.87\n2019-04-30  ARK Resources Holdings Bhd.   38.9\n2019-03-31  ARK Resources Holdings Bhd.  38.79\n2019-02-28  ARK Resources Holdings Bhd.  38.67\n2019-01-31  ARK Resources Holdings Bhd.  38.67\n"
     ]
    }
   ],
   "source": [
    "sray_list_S=[]\n",
    "counter=0\n",
    "\n",
    "\n",
    "for i in range (0,len(S_19_20.columns)):\n",
    "    temp_df= pd.DataFrame(S_19_20.iloc[0:,i])\n",
    "\n",
    "    temp_df.insert(0, \"firm name\", companies_S[counter])\n",
    "\n",
    "    temp_df.columns.values[1]= \"s\"\n",
    "\n",
    "    sray_list_S.append(temp_df)\n",
    "\n",
    "    counter=counter+1\n",
    "\n",
    "print(counter)\n",
    "\n",
    "print(sray_list_S[5])"
   ]
  },
  {
   "cell_type": "code",
   "execution_count": 15,
   "metadata": {},
   "outputs": [
    {
     "output_type": "execute_result",
     "data": {
      "text/plain": [
       "           date                       firm name      s\n",
       "0    2020-12-31  7-Eleven Malaysia Holdings Bhd  67.81\n",
       "1    2020-11-30  7-Eleven Malaysia Holdings Bhd  67.31\n",
       "2    2020-10-31  7-Eleven Malaysia Holdings Bhd  67.42\n",
       "3    2020-09-30  7-Eleven Malaysia Holdings Bhd  67.49\n",
       "4    2020-08-31  7-Eleven Malaysia Holdings Bhd  67.48\n",
       "...         ...                             ...    ...\n",
       "6835 2019-05-31        Zhulian Corporation Bhd.  49.84\n",
       "6836 2019-04-30        Zhulian Corporation Bhd.  49.88\n",
       "6837 2019-03-31        Zhulian Corporation Bhd.  49.65\n",
       "6838 2019-02-28        Zhulian Corporation Bhd.  49.53\n",
       "6839 2019-01-31        Zhulian Corporation Bhd.  49.53\n",
       "\n",
       "[6840 rows x 3 columns]"
      ],
      "text/html": "<div>\n<style scoped>\n    .dataframe tbody tr th:only-of-type {\n        vertical-align: middle;\n    }\n\n    .dataframe tbody tr th {\n        vertical-align: top;\n    }\n\n    .dataframe thead th {\n        text-align: right;\n    }\n</style>\n<table border=\"1\" class=\"dataframe\">\n  <thead>\n    <tr style=\"text-align: right;\">\n      <th></th>\n      <th>date</th>\n      <th>firm name</th>\n      <th>s</th>\n    </tr>\n  </thead>\n  <tbody>\n    <tr>\n      <th>0</th>\n      <td>2020-12-31</td>\n      <td>7-Eleven Malaysia Holdings Bhd</td>\n      <td>67.81</td>\n    </tr>\n    <tr>\n      <th>1</th>\n      <td>2020-11-30</td>\n      <td>7-Eleven Malaysia Holdings Bhd</td>\n      <td>67.31</td>\n    </tr>\n    <tr>\n      <th>2</th>\n      <td>2020-10-31</td>\n      <td>7-Eleven Malaysia Holdings Bhd</td>\n      <td>67.42</td>\n    </tr>\n    <tr>\n      <th>3</th>\n      <td>2020-09-30</td>\n      <td>7-Eleven Malaysia Holdings Bhd</td>\n      <td>67.49</td>\n    </tr>\n    <tr>\n      <th>4</th>\n      <td>2020-08-31</td>\n      <td>7-Eleven Malaysia Holdings Bhd</td>\n      <td>67.48</td>\n    </tr>\n    <tr>\n      <th>...</th>\n      <td>...</td>\n      <td>...</td>\n      <td>...</td>\n    </tr>\n    <tr>\n      <th>6835</th>\n      <td>2019-05-31</td>\n      <td>Zhulian Corporation Bhd.</td>\n      <td>49.84</td>\n    </tr>\n    <tr>\n      <th>6836</th>\n      <td>2019-04-30</td>\n      <td>Zhulian Corporation Bhd.</td>\n      <td>49.88</td>\n    </tr>\n    <tr>\n      <th>6837</th>\n      <td>2019-03-31</td>\n      <td>Zhulian Corporation Bhd.</td>\n      <td>49.65</td>\n    </tr>\n    <tr>\n      <th>6838</th>\n      <td>2019-02-28</td>\n      <td>Zhulian Corporation Bhd.</td>\n      <td>49.53</td>\n    </tr>\n    <tr>\n      <th>6839</th>\n      <td>2019-01-31</td>\n      <td>Zhulian Corporation Bhd.</td>\n      <td>49.53</td>\n    </tr>\n  </tbody>\n</table>\n<p>6840 rows × 3 columns</p>\n</div>"
     },
     "metadata": {},
     "execution_count": 15
    }
   ],
   "source": [
    "sray_df_S= pd.concat(sray_list_S)\n",
    "sray_df_S.reset_index(level=0, inplace=True)\n",
    "\n",
    "sray_df_S.rename(columns={'index': 'date'}, inplace=True)\n",
    "sray_df_S"
   ]
  },
  {
   "cell_type": "code",
   "execution_count": 16,
   "metadata": {},
   "outputs": [
    {
     "output_type": "execute_result",
     "data": {
      "text/plain": [
       "                    7-Eleven Malaysia Holdings Bhd AEON Co. (Malaysia) Bhd.  \\\n",
       "2020-12-31 00:00:00                          50.26                     43.7   \n",
       "2020-11-30 00:00:00                          50.27                    42.78   \n",
       "2020-10-31 00:00:00                           50.2                    42.77   \n",
       "2020-09-30 00:00:00                          50.28                    40.23   \n",
       "2020-08-31 00:00:00                          50.26                    40.23   \n",
       "2020-07-31 00:00:00                          50.79                    40.71   \n",
       "2020-06-30 00:00:00                          49.78                    35.57   \n",
       "2020-05-31 00:00:00                          49.83                    35.59   \n",
       "2020-04-30 00:00:00                          49.87                    35.67   \n",
       "2020-03-31 00:00:00                          47.55                    33.74   \n",
       "2020-02-29 00:00:00                           47.6                    32.26   \n",
       "2020-01-31 00:00:00                          47.55                    32.32   \n",
       "2019-12-31 00:00:00                          46.55                    31.36   \n",
       "2019-11-30 00:00:00                          46.57                     31.3   \n",
       "2019-10-31 00:00:00                          46.51                     31.4   \n",
       "2019-09-30 00:00:00                          49.05                    39.35   \n",
       "2019-08-31 00:00:00                          49.06                    39.36   \n",
       "2019-07-31 00:00:00                          49.02                    39.27   \n",
       "2019-06-30 00:00:00                          54.36                    42.12   \n",
       "2019-05-31 00:00:00                          51.59                    47.69   \n",
       "2019-04-30 00:00:00                          51.59                    47.67   \n",
       "2019-03-31 00:00:00                          51.71                    48.08   \n",
       "2019-02-28 00:00:00                          47.24                     50.0   \n",
       "2019-01-31 00:00:00                          47.28                    50.07   \n",
       "\n",
       "                    AEON Credit Service (M) Bhd. AMMB Holdings Bhd.  \\\n",
       "2020-12-31 00:00:00                        20.02               25.1   \n",
       "2020-11-30 00:00:00                        21.28              25.41   \n",
       "2020-10-31 00:00:00                        21.43              25.71   \n",
       "2020-09-30 00:00:00                         21.6              31.94   \n",
       "2020-08-31 00:00:00                        21.61              31.94   \n",
       "2020-07-31 00:00:00                        21.67              33.61   \n",
       "2020-06-30 00:00:00                        21.85              40.41   \n",
       "2020-05-31 00:00:00                        21.87              40.42   \n",
       "2020-04-30 00:00:00                        21.95              40.48   \n",
       "2020-03-31 00:00:00                        21.08              45.12   \n",
       "2020-02-29 00:00:00                        21.13              45.16   \n",
       "2020-01-31 00:00:00                        21.14              45.27   \n",
       "2019-12-31 00:00:00                        28.45              50.99   \n",
       "2019-11-30 00:00:00                        28.51              47.51   \n",
       "2019-10-31 00:00:00                        28.19              46.87   \n",
       "2019-09-30 00:00:00                        33.13              47.76   \n",
       "2019-08-31 00:00:00                        33.15              47.79   \n",
       "2019-07-31 00:00:00                        33.01              48.28   \n",
       "2019-06-30 00:00:00                        33.08              48.25   \n",
       "2019-05-31 00:00:00                        33.28              48.91   \n",
       "2019-04-30 00:00:00                        33.24              48.95   \n",
       "2019-03-31 00:00:00                        33.55              49.44   \n",
       "2019-02-28 00:00:00                        33.41              48.95   \n",
       "2019-01-31 00:00:00                        33.44              51.04   \n",
       "\n",
       "                    APM Automotive Holdings Bhd. ARK Resources Holdings Bhd.  \\\n",
       "2020-12-31 00:00:00                        53.53                       76.83   \n",
       "2020-11-30 00:00:00                        53.78                         NaN   \n",
       "2020-10-31 00:00:00                        53.82                         NaN   \n",
       "2020-09-30 00:00:00                        54.64                         NaN   \n",
       "2020-08-31 00:00:00                        54.64                         NaN   \n",
       "2020-07-31 00:00:00                        52.27                       74.34   \n",
       "2020-06-30 00:00:00                        52.48                       74.24   \n",
       "2020-05-31 00:00:00                        52.51                       74.27   \n",
       "2020-04-30 00:00:00                        52.59                       74.43   \n",
       "2020-03-31 00:00:00                        53.11                       70.45   \n",
       "2020-02-29 00:00:00                        54.94                       70.55   \n",
       "2020-01-31 00:00:00                        55.19                       70.51   \n",
       "2019-12-31 00:00:00                        54.76                       70.17   \n",
       "2019-11-30 00:00:00                        54.79                       70.17   \n",
       "2019-10-31 00:00:00                        54.63                       70.16   \n",
       "2019-09-30 00:00:00                        55.69                         NaN   \n",
       "2019-08-31 00:00:00                        55.71                       70.12   \n",
       "2019-07-31 00:00:00                        55.74                       69.82   \n",
       "2019-06-30 00:00:00                        55.87                       69.82   \n",
       "2019-05-31 00:00:00                        57.73                       69.69   \n",
       "2019-04-30 00:00:00                        57.69                       69.71   \n",
       "2019-03-31 00:00:00                        58.68                       70.08   \n",
       "2019-02-28 00:00:00                        60.56                       69.96   \n",
       "2019-01-31 00:00:00                        60.57                       69.96   \n",
       "\n",
       "                    Advance Synergy Bhd. Aemulus Holdings Bhd.  \\\n",
       "2020-12-31 00:00:00                36.72                 39.03   \n",
       "2020-11-30 00:00:00                37.37                 40.68   \n",
       "2020-10-31 00:00:00                37.34                 38.41   \n",
       "2020-09-30 00:00:00                22.98                 42.19   \n",
       "2020-08-31 00:00:00                22.35                 41.73   \n",
       "2020-07-31 00:00:00                22.08                 41.53   \n",
       "2020-06-30 00:00:00                19.08                 48.84   \n",
       "2020-05-31 00:00:00                 19.1                 48.85   \n",
       "2020-04-30 00:00:00                19.16                 48.93   \n",
       "2020-03-31 00:00:00                23.72                 52.14   \n",
       "2020-02-29 00:00:00                20.01                 50.67   \n",
       "2020-01-31 00:00:00                 19.9                 50.45   \n",
       "2019-12-31 00:00:00                24.69                 51.88   \n",
       "2019-11-30 00:00:00                24.73                 51.96   \n",
       "2019-10-31 00:00:00                24.39                 51.11   \n",
       "2019-09-30 00:00:00                29.11                 52.53   \n",
       "2019-08-31 00:00:00                28.34                 52.54   \n",
       "2019-07-31 00:00:00                28.67                 53.05   \n",
       "2019-06-30 00:00:00                29.35                  53.2   \n",
       "2019-05-31 00:00:00                33.57                 52.41   \n",
       "2019-04-30 00:00:00                33.53                 52.37   \n",
       "2019-03-31 00:00:00                33.83                 52.84   \n",
       "2019-02-28 00:00:00                 21.3                 51.21   \n",
       "2019-01-31 00:00:00                21.31                 51.21   \n",
       "\n",
       "                    Affin Bank Bhd. AirAsia Group Bhd.  ...  \\\n",
       "2020-12-31 00:00:00           48.94               48.0  ...   \n",
       "2020-11-30 00:00:00           48.82              48.73  ...   \n",
       "2020-10-31 00:00:00           47.78              48.55  ...   \n",
       "2020-09-30 00:00:00           47.35              48.56  ...   \n",
       "2020-08-31 00:00:00           47.37              48.48  ...   \n",
       "2020-07-31 00:00:00           47.39               48.5  ...   \n",
       "2020-06-30 00:00:00           41.95              50.45  ...   \n",
       "2020-05-31 00:00:00           41.99              50.45  ...   \n",
       "2020-04-30 00:00:00           42.08               50.5  ...   \n",
       "2020-03-31 00:00:00            37.7              58.14  ...   \n",
       "2020-02-29 00:00:00           37.77              58.21  ...   \n",
       "2020-01-31 00:00:00           37.79              59.43  ...   \n",
       "2019-12-31 00:00:00           26.97              62.89  ...   \n",
       "2019-11-30 00:00:00           26.49              62.85  ...   \n",
       "2019-10-31 00:00:00            26.6              62.46  ...   \n",
       "2019-09-30 00:00:00           25.78              66.65  ...   \n",
       "2019-08-31 00:00:00           25.79              66.68  ...   \n",
       "2019-07-31 00:00:00           26.47              68.74  ...   \n",
       "2019-06-30 00:00:00           26.53              71.08  ...   \n",
       "2019-05-31 00:00:00           26.24              69.63  ...   \n",
       "2019-04-30 00:00:00           26.22              69.64  ...   \n",
       "2019-03-31 00:00:00           25.59              58.18  ...   \n",
       "2019-02-28 00:00:00            32.0              53.13  ...   \n",
       "2019-01-31 00:00:00           32.03              53.11  ...   \n",
       "\n",
       "                    United Plantations Bhd. Uzma Bhd. V.S. Industry Bhd.  \\\n",
       "2020-12-31 00:00:00                   60.43     27.77              64.54   \n",
       "2020-11-30 00:00:00                   59.73     26.72              64.54   \n",
       "2020-10-31 00:00:00                   59.79     26.72              64.57   \n",
       "2020-09-30 00:00:00                   64.31     25.21              60.08   \n",
       "2020-08-31 00:00:00                   64.32     25.22              60.08   \n",
       "2020-07-31 00:00:00                   64.26     25.26              60.07   \n",
       "2020-06-30 00:00:00                   69.32     25.26              53.61   \n",
       "2020-05-31 00:00:00                   69.34     25.29              53.64   \n",
       "2020-04-30 00:00:00                   69.38      25.4              53.69   \n",
       "2020-03-31 00:00:00                   72.67      17.9              46.92   \n",
       "2020-02-29 00:00:00                   72.72     17.97              46.97   \n",
       "2020-01-31 00:00:00                   72.66     17.95              47.23   \n",
       "2019-12-31 00:00:00                   74.02     18.12               44.7   \n",
       "2019-11-30 00:00:00                   73.89     17.41              44.33   \n",
       "2019-10-31 00:00:00                   74.35     16.58              44.44   \n",
       "2019-09-30 00:00:00                   73.68      24.8              41.69   \n",
       "2019-08-31 00:00:00                   72.65     24.84               41.7   \n",
       "2019-07-31 00:00:00                   71.73     25.05               41.3   \n",
       "2019-06-30 00:00:00                   71.72     25.06              41.04   \n",
       "2019-05-31 00:00:00                   71.42     26.31              39.97   \n",
       "2019-04-30 00:00:00                   71.42     26.32              39.91   \n",
       "2019-03-31 00:00:00                   71.67     27.35              41.54   \n",
       "2019-02-28 00:00:00                   71.45     28.64               39.7   \n",
       "2019-01-31 00:00:00                   71.45     28.72              39.71   \n",
       "\n",
       "                    WCT Holdings Bhd. Westports Holdings Bhd.  \\\n",
       "2020-12-31 00:00:00             38.01                    77.7   \n",
       "2020-11-30 00:00:00             36.99                   77.07   \n",
       "2020-10-31 00:00:00              37.0                   77.01   \n",
       "2020-09-30 00:00:00             35.99                   76.95   \n",
       "2020-08-31 00:00:00              36.0                   76.94   \n",
       "2020-07-31 00:00:00             35.95                   76.95   \n",
       "2020-06-30 00:00:00             34.22                   74.01   \n",
       "2020-05-31 00:00:00             33.61                   74.01   \n",
       "2020-04-30 00:00:00             33.68                   73.58   \n",
       "2020-03-31 00:00:00             30.34                   69.65   \n",
       "2020-02-29 00:00:00              30.4                   68.65   \n",
       "2020-01-31 00:00:00             30.38                   68.83   \n",
       "2019-12-31 00:00:00             28.52                    64.4   \n",
       "2019-11-30 00:00:00             28.61                   63.32   \n",
       "2019-10-31 00:00:00             28.92                   63.24   \n",
       "2019-09-30 00:00:00             27.63                   59.36   \n",
       "2019-08-31 00:00:00             27.63                   59.41   \n",
       "2019-07-31 00:00:00             27.58                   59.65   \n",
       "2019-06-30 00:00:00             27.46                   59.65   \n",
       "2019-05-31 00:00:00             27.08                   57.51   \n",
       "2019-04-30 00:00:00             27.01                   57.45   \n",
       "2019-03-31 00:00:00              26.8                   57.09   \n",
       "2019-02-28 00:00:00             26.44                   57.24   \n",
       "2019-01-31 00:00:00             26.45                   57.24   \n",
       "\n",
       "                    Xin Hwa Holdings Bhd. YTL Corp Bhd.  \\\n",
       "2020-12-31 00:00:00                 48.34          28.3   \n",
       "2020-11-30 00:00:00                 48.55         29.47   \n",
       "2020-10-31 00:00:00                 46.88         29.86   \n",
       "2020-09-30 00:00:00                 35.92         31.66   \n",
       "2020-08-31 00:00:00                 35.89         31.65   \n",
       "2020-07-31 00:00:00                 35.57         31.51   \n",
       "2020-06-30 00:00:00                 37.47         34.26   \n",
       "2020-05-31 00:00:00                 37.48         34.28   \n",
       "2020-04-30 00:00:00                 37.54         34.05   \n",
       "2020-03-31 00:00:00                 43.78         35.41   \n",
       "2020-02-29 00:00:00                 43.63         35.43   \n",
       "2020-01-31 00:00:00                 43.66         35.55   \n",
       "2019-12-31 00:00:00                  45.2         38.05   \n",
       "2019-11-30 00:00:00                 45.34         37.23   \n",
       "2019-10-31 00:00:00                 45.56         36.65   \n",
       "2019-09-30 00:00:00                 48.67          37.8   \n",
       "2019-08-31 00:00:00                 48.65         37.79   \n",
       "2019-07-31 00:00:00                 48.29         37.79   \n",
       "2019-06-30 00:00:00                 48.29          38.0   \n",
       "2019-05-31 00:00:00                 48.65         37.41   \n",
       "2019-04-30 00:00:00                 48.58         37.37   \n",
       "2019-03-31 00:00:00                 56.21         34.07   \n",
       "2019-02-28 00:00:00                 56.87         33.98   \n",
       "2019-01-31 00:00:00                 56.86         33.73   \n",
       "\n",
       "                    YTL Power International Bhd. Yinson Holdings Bhd.  \\\n",
       "2020-12-31 00:00:00                        35.83                42.79   \n",
       "2020-11-30 00:00:00                        37.94                43.08   \n",
       "2020-10-31 00:00:00                        37.75                 43.1   \n",
       "2020-09-30 00:00:00                        37.23                42.44   \n",
       "2020-08-31 00:00:00                        37.23                42.42   \n",
       "2020-07-31 00:00:00                        36.65                42.03   \n",
       "2020-06-30 00:00:00                         37.4                42.65   \n",
       "2020-05-31 00:00:00                        37.41                42.64   \n",
       "2020-04-30 00:00:00                        37.45                42.72   \n",
       "2020-03-31 00:00:00                         36.1                42.73   \n",
       "2020-02-29 00:00:00                        36.13                42.77   \n",
       "2020-01-31 00:00:00                        36.25                42.79   \n",
       "2019-12-31 00:00:00                        36.39                 41.3   \n",
       "2019-11-30 00:00:00                        35.68                41.36   \n",
       "2019-10-31 00:00:00                        35.11                41.01   \n",
       "2019-09-30 00:00:00                        36.21                42.95   \n",
       "2019-08-31 00:00:00                        35.23                42.95   \n",
       "2019-07-31 00:00:00                         35.3                42.71   \n",
       "2019-06-30 00:00:00                        35.32                43.27   \n",
       "2019-05-31 00:00:00                        35.47                43.32   \n",
       "2019-04-30 00:00:00                        35.39                43.21   \n",
       "2019-03-31 00:00:00                        35.25                43.76   \n",
       "2019-02-28 00:00:00                        32.58                43.14   \n",
       "2019-01-31 00:00:00                        32.58                43.08   \n",
       "\n",
       "                    Zhulian Corporation Bhd.  \n",
       "2020-12-31 00:00:00                    83.37  \n",
       "2020-11-30 00:00:00                    83.83  \n",
       "2020-10-31 00:00:00                    83.86  \n",
       "2020-09-30 00:00:00                    82.86  \n",
       "2020-08-31 00:00:00                     83.1  \n",
       "2020-07-31 00:00:00                    83.14  \n",
       "2020-06-30 00:00:00                    82.62  \n",
       "2020-05-31 00:00:00                    82.64  \n",
       "2020-04-30 00:00:00                     82.7  \n",
       "2020-03-31 00:00:00                     81.0  \n",
       "2020-02-29 00:00:00                    80.98  \n",
       "2020-01-31 00:00:00                    81.03  \n",
       "2019-12-31 00:00:00                    80.54  \n",
       "2019-11-30 00:00:00                    80.43  \n",
       "2019-10-31 00:00:00                    79.82  \n",
       "2019-09-30 00:00:00                    79.83  \n",
       "2019-08-31 00:00:00                    79.84  \n",
       "2019-07-31 00:00:00                    80.45  \n",
       "2019-06-30 00:00:00                    80.41  \n",
       "2019-05-31 00:00:00                    80.46  \n",
       "2019-04-30 00:00:00                    80.44  \n",
       "2019-03-31 00:00:00                    79.63  \n",
       "2019-02-28 00:00:00                    79.93  \n",
       "2019-01-31 00:00:00                    79.93  \n",
       "\n",
       "[24 rows x 285 columns]"
      ],
      "text/html": "<div>\n<style scoped>\n    .dataframe tbody tr th:only-of-type {\n        vertical-align: middle;\n    }\n\n    .dataframe tbody tr th {\n        vertical-align: top;\n    }\n\n    .dataframe thead th {\n        text-align: right;\n    }\n</style>\n<table border=\"1\" class=\"dataframe\">\n  <thead>\n    <tr style=\"text-align: right;\">\n      <th></th>\n      <th>7-Eleven Malaysia Holdings Bhd</th>\n      <th>AEON Co. (Malaysia) Bhd.</th>\n      <th>AEON Credit Service (M) Bhd.</th>\n      <th>AMMB Holdings Bhd.</th>\n      <th>APM Automotive Holdings Bhd.</th>\n      <th>ARK Resources Holdings Bhd.</th>\n      <th>Advance Synergy Bhd.</th>\n      <th>Aemulus Holdings Bhd.</th>\n      <th>Affin Bank Bhd.</th>\n      <th>AirAsia Group Bhd.</th>\n      <th>...</th>\n      <th>United Plantations Bhd.</th>\n      <th>Uzma Bhd.</th>\n      <th>V.S. Industry Bhd.</th>\n      <th>WCT Holdings Bhd.</th>\n      <th>Westports Holdings Bhd.</th>\n      <th>Xin Hwa Holdings Bhd.</th>\n      <th>YTL Corp Bhd.</th>\n      <th>YTL Power International Bhd.</th>\n      <th>Yinson Holdings Bhd.</th>\n      <th>Zhulian Corporation Bhd.</th>\n    </tr>\n  </thead>\n  <tbody>\n    <tr>\n      <th>2020-12-31 00:00:00</th>\n      <td>50.26</td>\n      <td>43.7</td>\n      <td>20.02</td>\n      <td>25.1</td>\n      <td>53.53</td>\n      <td>76.83</td>\n      <td>36.72</td>\n      <td>39.03</td>\n      <td>48.94</td>\n      <td>48.0</td>\n      <td>...</td>\n      <td>60.43</td>\n      <td>27.77</td>\n      <td>64.54</td>\n      <td>38.01</td>\n      <td>77.7</td>\n      <td>48.34</td>\n      <td>28.3</td>\n      <td>35.83</td>\n      <td>42.79</td>\n      <td>83.37</td>\n    </tr>\n    <tr>\n      <th>2020-11-30 00:00:00</th>\n      <td>50.27</td>\n      <td>42.78</td>\n      <td>21.28</td>\n      <td>25.41</td>\n      <td>53.78</td>\n      <td>NaN</td>\n      <td>37.37</td>\n      <td>40.68</td>\n      <td>48.82</td>\n      <td>48.73</td>\n      <td>...</td>\n      <td>59.73</td>\n      <td>26.72</td>\n      <td>64.54</td>\n      <td>36.99</td>\n      <td>77.07</td>\n      <td>48.55</td>\n      <td>29.47</td>\n      <td>37.94</td>\n      <td>43.08</td>\n      <td>83.83</td>\n    </tr>\n    <tr>\n      <th>2020-10-31 00:00:00</th>\n      <td>50.2</td>\n      <td>42.77</td>\n      <td>21.43</td>\n      <td>25.71</td>\n      <td>53.82</td>\n      <td>NaN</td>\n      <td>37.34</td>\n      <td>38.41</td>\n      <td>47.78</td>\n      <td>48.55</td>\n      <td>...</td>\n      <td>59.79</td>\n      <td>26.72</td>\n      <td>64.57</td>\n      <td>37.0</td>\n      <td>77.01</td>\n      <td>46.88</td>\n      <td>29.86</td>\n      <td>37.75</td>\n      <td>43.1</td>\n      <td>83.86</td>\n    </tr>\n    <tr>\n      <th>2020-09-30 00:00:00</th>\n      <td>50.28</td>\n      <td>40.23</td>\n      <td>21.6</td>\n      <td>31.94</td>\n      <td>54.64</td>\n      <td>NaN</td>\n      <td>22.98</td>\n      <td>42.19</td>\n      <td>47.35</td>\n      <td>48.56</td>\n      <td>...</td>\n      <td>64.31</td>\n      <td>25.21</td>\n      <td>60.08</td>\n      <td>35.99</td>\n      <td>76.95</td>\n      <td>35.92</td>\n      <td>31.66</td>\n      <td>37.23</td>\n      <td>42.44</td>\n      <td>82.86</td>\n    </tr>\n    <tr>\n      <th>2020-08-31 00:00:00</th>\n      <td>50.26</td>\n      <td>40.23</td>\n      <td>21.61</td>\n      <td>31.94</td>\n      <td>54.64</td>\n      <td>NaN</td>\n      <td>22.35</td>\n      <td>41.73</td>\n      <td>47.37</td>\n      <td>48.48</td>\n      <td>...</td>\n      <td>64.32</td>\n      <td>25.22</td>\n      <td>60.08</td>\n      <td>36.0</td>\n      <td>76.94</td>\n      <td>35.89</td>\n      <td>31.65</td>\n      <td>37.23</td>\n      <td>42.42</td>\n      <td>83.1</td>\n    </tr>\n    <tr>\n      <th>2020-07-31 00:00:00</th>\n      <td>50.79</td>\n      <td>40.71</td>\n      <td>21.67</td>\n      <td>33.61</td>\n      <td>52.27</td>\n      <td>74.34</td>\n      <td>22.08</td>\n      <td>41.53</td>\n      <td>47.39</td>\n      <td>48.5</td>\n      <td>...</td>\n      <td>64.26</td>\n      <td>25.26</td>\n      <td>60.07</td>\n      <td>35.95</td>\n      <td>76.95</td>\n      <td>35.57</td>\n      <td>31.51</td>\n      <td>36.65</td>\n      <td>42.03</td>\n      <td>83.14</td>\n    </tr>\n    <tr>\n      <th>2020-06-30 00:00:00</th>\n      <td>49.78</td>\n      <td>35.57</td>\n      <td>21.85</td>\n      <td>40.41</td>\n      <td>52.48</td>\n      <td>74.24</td>\n      <td>19.08</td>\n      <td>48.84</td>\n      <td>41.95</td>\n      <td>50.45</td>\n      <td>...</td>\n      <td>69.32</td>\n      <td>25.26</td>\n      <td>53.61</td>\n      <td>34.22</td>\n      <td>74.01</td>\n      <td>37.47</td>\n      <td>34.26</td>\n      <td>37.4</td>\n      <td>42.65</td>\n      <td>82.62</td>\n    </tr>\n    <tr>\n      <th>2020-05-31 00:00:00</th>\n      <td>49.83</td>\n      <td>35.59</td>\n      <td>21.87</td>\n      <td>40.42</td>\n      <td>52.51</td>\n      <td>74.27</td>\n      <td>19.1</td>\n      <td>48.85</td>\n      <td>41.99</td>\n      <td>50.45</td>\n      <td>...</td>\n      <td>69.34</td>\n      <td>25.29</td>\n      <td>53.64</td>\n      <td>33.61</td>\n      <td>74.01</td>\n      <td>37.48</td>\n      <td>34.28</td>\n      <td>37.41</td>\n      <td>42.64</td>\n      <td>82.64</td>\n    </tr>\n    <tr>\n      <th>2020-04-30 00:00:00</th>\n      <td>49.87</td>\n      <td>35.67</td>\n      <td>21.95</td>\n      <td>40.48</td>\n      <td>52.59</td>\n      <td>74.43</td>\n      <td>19.16</td>\n      <td>48.93</td>\n      <td>42.08</td>\n      <td>50.5</td>\n      <td>...</td>\n      <td>69.38</td>\n      <td>25.4</td>\n      <td>53.69</td>\n      <td>33.68</td>\n      <td>73.58</td>\n      <td>37.54</td>\n      <td>34.05</td>\n      <td>37.45</td>\n      <td>42.72</td>\n      <td>82.7</td>\n    </tr>\n    <tr>\n      <th>2020-03-31 00:00:00</th>\n      <td>47.55</td>\n      <td>33.74</td>\n      <td>21.08</td>\n      <td>45.12</td>\n      <td>53.11</td>\n      <td>70.45</td>\n      <td>23.72</td>\n      <td>52.14</td>\n      <td>37.7</td>\n      <td>58.14</td>\n      <td>...</td>\n      <td>72.67</td>\n      <td>17.9</td>\n      <td>46.92</td>\n      <td>30.34</td>\n      <td>69.65</td>\n      <td>43.78</td>\n      <td>35.41</td>\n      <td>36.1</td>\n      <td>42.73</td>\n      <td>81.0</td>\n    </tr>\n    <tr>\n      <th>2020-02-29 00:00:00</th>\n      <td>47.6</td>\n      <td>32.26</td>\n      <td>21.13</td>\n      <td>45.16</td>\n      <td>54.94</td>\n      <td>70.55</td>\n      <td>20.01</td>\n      <td>50.67</td>\n      <td>37.77</td>\n      <td>58.21</td>\n      <td>...</td>\n      <td>72.72</td>\n      <td>17.97</td>\n      <td>46.97</td>\n      <td>30.4</td>\n      <td>68.65</td>\n      <td>43.63</td>\n      <td>35.43</td>\n      <td>36.13</td>\n      <td>42.77</td>\n      <td>80.98</td>\n    </tr>\n    <tr>\n      <th>2020-01-31 00:00:00</th>\n      <td>47.55</td>\n      <td>32.32</td>\n      <td>21.14</td>\n      <td>45.27</td>\n      <td>55.19</td>\n      <td>70.51</td>\n      <td>19.9</td>\n      <td>50.45</td>\n      <td>37.79</td>\n      <td>59.43</td>\n      <td>...</td>\n      <td>72.66</td>\n      <td>17.95</td>\n      <td>47.23</td>\n      <td>30.38</td>\n      <td>68.83</td>\n      <td>43.66</td>\n      <td>35.55</td>\n      <td>36.25</td>\n      <td>42.79</td>\n      <td>81.03</td>\n    </tr>\n    <tr>\n      <th>2019-12-31 00:00:00</th>\n      <td>46.55</td>\n      <td>31.36</td>\n      <td>28.45</td>\n      <td>50.99</td>\n      <td>54.76</td>\n      <td>70.17</td>\n      <td>24.69</td>\n      <td>51.88</td>\n      <td>26.97</td>\n      <td>62.89</td>\n      <td>...</td>\n      <td>74.02</td>\n      <td>18.12</td>\n      <td>44.7</td>\n      <td>28.52</td>\n      <td>64.4</td>\n      <td>45.2</td>\n      <td>38.05</td>\n      <td>36.39</td>\n      <td>41.3</td>\n      <td>80.54</td>\n    </tr>\n    <tr>\n      <th>2019-11-30 00:00:00</th>\n      <td>46.57</td>\n      <td>31.3</td>\n      <td>28.51</td>\n      <td>47.51</td>\n      <td>54.79</td>\n      <td>70.17</td>\n      <td>24.73</td>\n      <td>51.96</td>\n      <td>26.49</td>\n      <td>62.85</td>\n      <td>...</td>\n      <td>73.89</td>\n      <td>17.41</td>\n      <td>44.33</td>\n      <td>28.61</td>\n      <td>63.32</td>\n      <td>45.34</td>\n      <td>37.23</td>\n      <td>35.68</td>\n      <td>41.36</td>\n      <td>80.43</td>\n    </tr>\n    <tr>\n      <th>2019-10-31 00:00:00</th>\n      <td>46.51</td>\n      <td>31.4</td>\n      <td>28.19</td>\n      <td>46.87</td>\n      <td>54.63</td>\n      <td>70.16</td>\n      <td>24.39</td>\n      <td>51.11</td>\n      <td>26.6</td>\n      <td>62.46</td>\n      <td>...</td>\n      <td>74.35</td>\n      <td>16.58</td>\n      <td>44.44</td>\n      <td>28.92</td>\n      <td>63.24</td>\n      <td>45.56</td>\n      <td>36.65</td>\n      <td>35.11</td>\n      <td>41.01</td>\n      <td>79.82</td>\n    </tr>\n    <tr>\n      <th>2019-09-30 00:00:00</th>\n      <td>49.05</td>\n      <td>39.35</td>\n      <td>33.13</td>\n      <td>47.76</td>\n      <td>55.69</td>\n      <td>NaN</td>\n      <td>29.11</td>\n      <td>52.53</td>\n      <td>25.78</td>\n      <td>66.65</td>\n      <td>...</td>\n      <td>73.68</td>\n      <td>24.8</td>\n      <td>41.69</td>\n      <td>27.63</td>\n      <td>59.36</td>\n      <td>48.67</td>\n      <td>37.8</td>\n      <td>36.21</td>\n      <td>42.95</td>\n      <td>79.83</td>\n    </tr>\n    <tr>\n      <th>2019-08-31 00:00:00</th>\n      <td>49.06</td>\n      <td>39.36</td>\n      <td>33.15</td>\n      <td>47.79</td>\n      <td>55.71</td>\n      <td>70.12</td>\n      <td>28.34</td>\n      <td>52.54</td>\n      <td>25.79</td>\n      <td>66.68</td>\n      <td>...</td>\n      <td>72.65</td>\n      <td>24.84</td>\n      <td>41.7</td>\n      <td>27.63</td>\n      <td>59.41</td>\n      <td>48.65</td>\n      <td>37.79</td>\n      <td>35.23</td>\n      <td>42.95</td>\n      <td>79.84</td>\n    </tr>\n    <tr>\n      <th>2019-07-31 00:00:00</th>\n      <td>49.02</td>\n      <td>39.27</td>\n      <td>33.01</td>\n      <td>48.28</td>\n      <td>55.74</td>\n      <td>69.82</td>\n      <td>28.67</td>\n      <td>53.05</td>\n      <td>26.47</td>\n      <td>68.74</td>\n      <td>...</td>\n      <td>71.73</td>\n      <td>25.05</td>\n      <td>41.3</td>\n      <td>27.58</td>\n      <td>59.65</td>\n      <td>48.29</td>\n      <td>37.79</td>\n      <td>35.3</td>\n      <td>42.71</td>\n      <td>80.45</td>\n    </tr>\n    <tr>\n      <th>2019-06-30 00:00:00</th>\n      <td>54.36</td>\n      <td>42.12</td>\n      <td>33.08</td>\n      <td>48.25</td>\n      <td>55.87</td>\n      <td>69.82</td>\n      <td>29.35</td>\n      <td>53.2</td>\n      <td>26.53</td>\n      <td>71.08</td>\n      <td>...</td>\n      <td>71.72</td>\n      <td>25.06</td>\n      <td>41.04</td>\n      <td>27.46</td>\n      <td>59.65</td>\n      <td>48.29</td>\n      <td>38.0</td>\n      <td>35.32</td>\n      <td>43.27</td>\n      <td>80.41</td>\n    </tr>\n    <tr>\n      <th>2019-05-31 00:00:00</th>\n      <td>51.59</td>\n      <td>47.69</td>\n      <td>33.28</td>\n      <td>48.91</td>\n      <td>57.73</td>\n      <td>69.69</td>\n      <td>33.57</td>\n      <td>52.41</td>\n      <td>26.24</td>\n      <td>69.63</td>\n      <td>...</td>\n      <td>71.42</td>\n      <td>26.31</td>\n      <td>39.97</td>\n      <td>27.08</td>\n      <td>57.51</td>\n      <td>48.65</td>\n      <td>37.41</td>\n      <td>35.47</td>\n      <td>43.32</td>\n      <td>80.46</td>\n    </tr>\n    <tr>\n      <th>2019-04-30 00:00:00</th>\n      <td>51.59</td>\n      <td>47.67</td>\n      <td>33.24</td>\n      <td>48.95</td>\n      <td>57.69</td>\n      <td>69.71</td>\n      <td>33.53</td>\n      <td>52.37</td>\n      <td>26.22</td>\n      <td>69.64</td>\n      <td>...</td>\n      <td>71.42</td>\n      <td>26.32</td>\n      <td>39.91</td>\n      <td>27.01</td>\n      <td>57.45</td>\n      <td>48.58</td>\n      <td>37.37</td>\n      <td>35.39</td>\n      <td>43.21</td>\n      <td>80.44</td>\n    </tr>\n    <tr>\n      <th>2019-03-31 00:00:00</th>\n      <td>51.71</td>\n      <td>48.08</td>\n      <td>33.55</td>\n      <td>49.44</td>\n      <td>58.68</td>\n      <td>70.08</td>\n      <td>33.83</td>\n      <td>52.84</td>\n      <td>25.59</td>\n      <td>58.18</td>\n      <td>...</td>\n      <td>71.67</td>\n      <td>27.35</td>\n      <td>41.54</td>\n      <td>26.8</td>\n      <td>57.09</td>\n      <td>56.21</td>\n      <td>34.07</td>\n      <td>35.25</td>\n      <td>43.76</td>\n      <td>79.63</td>\n    </tr>\n    <tr>\n      <th>2019-02-28 00:00:00</th>\n      <td>47.24</td>\n      <td>50.0</td>\n      <td>33.41</td>\n      <td>48.95</td>\n      <td>60.56</td>\n      <td>69.96</td>\n      <td>21.3</td>\n      <td>51.21</td>\n      <td>32.0</td>\n      <td>53.13</td>\n      <td>...</td>\n      <td>71.45</td>\n      <td>28.64</td>\n      <td>39.7</td>\n      <td>26.44</td>\n      <td>57.24</td>\n      <td>56.87</td>\n      <td>33.98</td>\n      <td>32.58</td>\n      <td>43.14</td>\n      <td>79.93</td>\n    </tr>\n    <tr>\n      <th>2019-01-31 00:00:00</th>\n      <td>47.28</td>\n      <td>50.07</td>\n      <td>33.44</td>\n      <td>51.04</td>\n      <td>60.57</td>\n      <td>69.96</td>\n      <td>21.31</td>\n      <td>51.21</td>\n      <td>32.03</td>\n      <td>53.11</td>\n      <td>...</td>\n      <td>71.45</td>\n      <td>28.72</td>\n      <td>39.71</td>\n      <td>26.45</td>\n      <td>57.24</td>\n      <td>56.86</td>\n      <td>33.73</td>\n      <td>32.58</td>\n      <td>43.08</td>\n      <td>79.93</td>\n    </tr>\n  </tbody>\n</table>\n<p>24 rows × 285 columns</p>\n</div>"
     },
     "metadata": {},
     "execution_count": 16
    }
   ],
   "source": [
    "G_19_20= G_19_20.transpose()\n",
    "G_19_20.columns= G_19_20.iloc[0]\n",
    "G_19_20=G_19_20[1:]\n",
    "G_19_20 = G_19_20.rename_axis(index=(None), columns=None)\n",
    "G_19_20"
   ]
  },
  {
   "cell_type": "code",
   "execution_count": 17,
   "metadata": {},
   "outputs": [
    {
     "output_type": "stream",
     "name": "stdout",
     "text": [
      "['7-Eleven Malaysia Holdings Bhd', 'AEON Co. (Malaysia) Bhd.', 'AEON Credit Service (M) Bhd.', 'AMMB Holdings Bhd.', 'APM Automotive Holdings Bhd.', 'ARK Resources Holdings Bhd.', 'Advance Synergy Bhd.', 'Aemulus Holdings Bhd.', 'Affin Bank Bhd.', 'AirAsia Group Bhd.', 'AirAsia X Bhd.', \"Al-'Aqar Healthcare REIT\", 'Al-Salam Real Estate Investment Trust', 'Alam Maritim Resources Bhd.', 'Alcom Group Bhd.', 'Alliance Bank Malaysia Bhd.', 'Allianz Malaysia Bhd.', 'AmFIRST Real Estate Investment Trust', 'Amalgamated Industrial Steel Bhd.', 'Amanah Harta Tanah Pnb', 'Amcorp Properties Bhd.', 'Amverton Bhd', 'Amway (Malaysia) Holdings Bhd.', 'Ancom Bhd.', 'Ann Joo Resources Bhd.', 'Apex Equity Holdings Bhd.', 'Asia File Corporation Bhd.', 'Asian Pac Holdings Bhd.', 'Astro Malaysia Holdings Bhd.', 'Atlan Holdings Bhd.', 'AwanBiru Technology Bhd.', 'Axiata Group Bhd.', 'Axis Real Estate Investment Trust', 'BCB BHD', 'BIMB Holdings Bhd.', 'BLD Plantation Bhd.', 'Barakah Offshore Petroleum Bhd.', 'Batu Kawan Bhd.', 'Benalec Holdings Bhd.', 'Berjaya Assets Bhd.', 'Berjaya Corp. Bhd.', 'Berjaya Food Bhd.', 'Berjaya Land Bhd.', 'Berjaya Sports Toto Bhd.', 'Bermaz Auto Berhad', 'Bintulu Port Holdings Bhd.', 'Bioalpha Holdings Bhd.', 'Boilermech Holdings Bhd.', 'Bonia Corp. Bhd.', 'Boustead Heavy Industries Corporation Bhd.', 'Boustead Holdings Bhd.', 'Boustead Plantations Bhd.', 'Brem Holding Bhd.', 'British American Tobacco Malaysia Bhd.', 'Bumi Armada Bhd.', 'Bursa Malaysia Bhd.', 'C.I. Holdings Bhd.', 'CB Industrial Product Holding Bhd.', 'CIMB Group Holdings Bhd', 'CSC Steel Holdings Bhd.', 'Cahya Mata Sarawak Bhd.', 'CapitaLand Malaysia Mall Trust', 'Carimin Petroleum Bhd', 'Carlsberg Brewery Malaysia Bhd.', 'Chemical Co. of Malaysia Bhd.', 'Chin Hin Group Bhd', 'Choo Bee Metal Industries Bhd.', 'Coastal Contracts Bhd.', 'Comfort Gloves Bhd.', 'Concrete Engineering Products Bhd.', 'Country Heights Holdings Bhd.', 'Crescendo Corp. Bhd.', 'Cycle & Carriage Bintang Bhd.', 'DKLS Industries Bhd.', 'DKSH Holdings (Malaysia) Bhd.', 'DRB-Hicom Bhd.', 'Dagang NeXchange Berhad', 'Daibochi Bhd.', 'Daiman Development Bhd', 'Damansara Holdings Bhd.', 'Dataprep Holdings Bhd.', 'Datasonic Group Bhd.', 'Dayang Enterprise Holdings Bhd.', 'Deleum Bhd.', 'DiGi.Com Bhd', 'Dialog Group Bhd.', 'Dolphin International Bhd', 'DutaLand Bhd.', 'Dutch Lady Milk Industries Bhd.', 'ECM Libra Group Bhd.', 'Eastern & Oriental Bhd.', 'Eco World Development Group Bhd.', 'EcoFirst Consolidated Bhd', 'Econpile Holdings Bhd', 'Ekovest Bhd.', 'Encorp Bhd.', 'Evergreen Fibreboard Bhd.', 'Eversendai Corp Bhd.', 'FACB Industries Inc. Bhd.', 'FGV Holdings Bhd.', 'Far East Holdings Bhd.', 'Favelle Favco Bhd.', 'Fraser & Neave Holdings Bhd.', 'GD Express Carrier Bhd.', 'GDEX Berhad', 'GUH Holdings Bhd.', 'Gamuda Bhd.', 'Gas Malaysia Bhd.', 'Genting Bhd.', 'Genting Malaysia Bhd.', 'Genting Plantations Bhd.', 'George Kent (Malaysia) Bhd.', 'Globetronics Technology Bhd.', 'Glomac Bhd.', 'Golden Pharos Bhd.', 'Green Packet Bhd.', 'Guan Chong Bhd.', 'Hap Seng Consolidated Bhd.', 'Hap Seng Plantations Holdings Bhd.', 'Harbour-Link Group Bhd.', 'Hartalega Holdings Bhd.', 'Heng Huat Resources Group Bhd', 'Hengyuan Refining Company Bhd', 'Hiap Teck Venture Bhd.', 'Hibiscus Petroleum Bhd.', 'Ho Hup Construction Co. Bhd.', 'Hock Seng Lee Bhd.', 'Hong Leong Bank Bhd.', 'Hong Leong Financial Group Bhd.', 'Hong Leong Industries Bhd.', 'Hubline Bhd.', 'Hume Industries Berhad', 'Hup Seng Industries Bhd.', 'Hwa Tai Industries Bhd.', 'IGB Bhd.', 'IGB Corp Bhd.', 'IGB Real Estate Investment Trust', 'IHH Healthcare Bhd.', 'IJM Corp. Bhd.', 'IJM Plantations Bhd.', 'IOI Corp. Bhd.', 'IOI Properties Group Bhd.', 'IRIS Corp. Bhd.', 'Icon Offshore Bhd', 'Ikhmas Jaya Group Bhd.', 'Inari Amertron Berhad', 'Insas Bhd.', 'Iskandar Waterfront City Berhad', 'JCY International Bhd.', 'Jasa Kita Bhd.', 'KLCC Property Holdings Bhd.', 'KPJ Healthcare Bhd.', 'KSL Holdings Bhd.', 'Karex Bhd.', 'Kian Joo Can Factory Bhd.', 'Kim Hin Industry Bhd.', 'Kossan Rubber Industries Bhd.', 'Kretam Holdings Bhd.', 'Kronologi Asia Bhd.', 'Kuala Lumpur Kepong Bhd.', 'LBS Bina Group Bhd.', 'LPI Capital Bhd', 'Lafarge Malaysia Bhd.', 'Lingkaran Trans Kota Holdings Bhd.', 'Lynas Corporation Limited', 'Lynas Rare Earths Limited', 'MCT Bhd.', 'MGB Bhd', 'MISC Bhd', 'MK Land Holdings Bhd.', 'MMC Corp. Bhd.', 'MSM Malaysia Holdings Bhd.', 'Mah Sing Group Bhd.', 'Malakoff Corporation Bhd', 'Malayan Banking Bhd.', 'Malayan Cement Bhd', 'Malaysia Airports Holdings Bhd.', 'Malaysia Marine & Heavy Engineering Holdings Bhd.', 'Malaysian Bulk Carriers Bhd.', 'Malaysian Pacific Industries Bhd.', 'Malaysian Resources Corp. Bhd.', 'Marco Holdings Bhd.', 'Matrix Concepts Holdings Bhd.', 'Maxim Global Bhd.', 'Maxis Bhd.', 'Media Prima Bhd.', 'Mega First Corp. Bhd.', 'Minda Global Bhd.', 'Minho (Malaysia) Bhd.', 'Muda Holdings Bhd.', 'Mudajaya Group Bhd.', 'Muhibbah Engineering (M) Bhd.', 'My E.G. Services Bhd.', 'Mynews Holdings Bhd', 'NTPM Holdings Bhd.', 'Naim Holdings Bhd.', 'Nestle (Malaysia) Bhd.', 'Nylex (Malaysia) Bhd.', 'Oldtown Bhd.', 'Olympia Industries Bhd.', 'PETRONAS Chemicals Group Bhd.', 'PPB Group Bhd.', 'Pacific & Orient Bhd.', 'Padini Holdings Bhd.', 'Pan Malaysia Corp. Bhd.', 'Pan Malaysia Holdings Bhd.', 'Panasonic Manufacturing Malaysia Bhd.', 'Pansar Bhd.', 'Paragon Globe Berhad', 'Paramount Corp. Bhd.', 'Parkson Holdings Bhd.', 'Parkwood Holdings Bhd.', 'Pavilion Real Estate Investment Trust', 'Pegasus Heights Bhd', 'Pegasus Heights Bhd.', 'Pestech International Bhd.', 'Petronas Dagangan Bhd.', 'Petronas Gas Bhd.', 'Pharmaniaga Bhd.', 'Plenitude Bhd.', 'Pos Malaysia Bhd.', 'Press Metal Aluminium Holdings Berhad', 'Prestariang Bhd.', 'Prolexus Bhd.', 'Protasco Bhd.', 'Public Bank Bhd', 'PureCircle Limited', 'QL Resources Bhd.', 'RHB Bank Bhd.', 'Ranhill Utilities Bhd.', 'S P Setia Bhd.', 'SAM Engineering & Equipment (M) Bhd.', 'SEG International Bhd.', 'SKP Resources Bhd.', 'Sapura Energy Bhd', 'Scientex Bhd.', 'Scomi Energy Services Bhd.', 'Seal Incorporation Bhd', 'Selangor Properties Bhd.', 'Serba Dinamik Holdings Bhd', 'Sime Darby Bhd.', 'Sime Darby Plantation Bhd.', 'Sime Darby Property Bhd.', 'Sumatec Resources Bhd.', 'Sunway Bhd.', 'Sunway Construction Group Bhd.', 'Sunway Real Estate Investment Trust', 'Supermax Corp. Bhd.', 'Suria Capital Holdings Bhd.', 'Syarikat Takaful Malaysia Keluarga Bhd.', 'TDM Bhd.', 'TH Heavy Engineering Bhd.', 'TH Plantations Bhd.', 'TIME dotCom Bhd.', 'TSH Resources Bhd.', 'Ta Ann Holdings Bhd.', 'Tadmax Resources Bhd.', 'Talam Transform Berhad', 'Taliworks Corp. Bhd.', 'Tambun Indah Land Bhd.', 'Telekom Malaysia Bhd.', 'Tenaga Nasional Bhd', 'Three-A Resources Bhd.', 'Tiong Nam Logistics Holdings Bhd.', 'Titijaya Land Bhd.', 'Top Builders Capital Bhd.', 'Top Glove Corporation Bhd.', 'Tune Protect Group Bhd.', 'UEM Edgenta Bhd.', 'UEM Sunrise Bhd.', 'UMW Holdings Bhd', 'UOA Development Bhd.', 'Uchi Technologies Bhd.', 'Unisem (M) Bhd.', 'United Malacca Bhd.', 'United Plantations Bhd.', 'Uzma Bhd.', 'V.S. Industry Bhd.', 'WCT Holdings Bhd.', 'Westports Holdings Bhd.', 'Xin Hwa Holdings Bhd.', 'YTL Corp Bhd.', 'YTL Power International Bhd.', 'Yinson Holdings Bhd.', 'Zhulian Corporation Bhd.']\n"
     ]
    },
    {
     "output_type": "execute_result",
     "data": {
      "text/plain": [
       "285"
      ]
     },
     "metadata": {},
     "execution_count": 17
    }
   ],
   "source": [
    "companies_G= pd.read_excel(sray_19_20, sheet_name=\"G\").iloc[:,0]\n",
    "\n",
    "companies_G=companies_G.tolist()\n",
    "\n",
    "print(companies_G)\n",
    "len(companies_G)"
   ]
  },
  {
   "cell_type": "code",
   "execution_count": 18,
   "metadata": {},
   "outputs": [
    {
     "output_type": "stream",
     "name": "stdout",
     "text": [
      "285\n                              firm name      g\n2020-12-31  ARK Resources Holdings Bhd.  76.83\n2020-11-30  ARK Resources Holdings Bhd.    NaN\n2020-10-31  ARK Resources Holdings Bhd.    NaN\n2020-09-30  ARK Resources Holdings Bhd.    NaN\n2020-08-31  ARK Resources Holdings Bhd.    NaN\n2020-07-31  ARK Resources Holdings Bhd.  74.34\n2020-06-30  ARK Resources Holdings Bhd.  74.24\n2020-05-31  ARK Resources Holdings Bhd.  74.27\n2020-04-30  ARK Resources Holdings Bhd.  74.43\n2020-03-31  ARK Resources Holdings Bhd.  70.45\n2020-02-29  ARK Resources Holdings Bhd.  70.55\n2020-01-31  ARK Resources Holdings Bhd.  70.51\n2019-12-31  ARK Resources Holdings Bhd.  70.17\n2019-11-30  ARK Resources Holdings Bhd.  70.17\n2019-10-31  ARK Resources Holdings Bhd.  70.16\n2019-09-30  ARK Resources Holdings Bhd.    NaN\n2019-08-31  ARK Resources Holdings Bhd.  70.12\n2019-07-31  ARK Resources Holdings Bhd.  69.82\n2019-06-30  ARK Resources Holdings Bhd.  69.82\n2019-05-31  ARK Resources Holdings Bhd.  69.69\n2019-04-30  ARK Resources Holdings Bhd.  69.71\n2019-03-31  ARK Resources Holdings Bhd.  70.08\n2019-02-28  ARK Resources Holdings Bhd.  69.96\n2019-01-31  ARK Resources Holdings Bhd.  69.96\n"
     ]
    }
   ],
   "source": [
    "sray_list_G=[]\n",
    "counter=0\n",
    "\n",
    "\n",
    "for i in range (0,len(G_19_20.columns)):\n",
    "    temp_df= pd.DataFrame(G_19_20.iloc[0:,i])\n",
    "\n",
    "    temp_df.insert(0, \"firm name\", companies_G[counter])\n",
    "\n",
    "    temp_df.columns.values[1]= \"g\"\n",
    "\n",
    "    sray_list_G.append(temp_df)\n",
    "\n",
    "    counter=counter+1\n",
    "\n",
    "print(counter)\n",
    "\n",
    "print(sray_list_G[5])"
   ]
  },
  {
   "cell_type": "code",
   "execution_count": 19,
   "metadata": {},
   "outputs": [
    {
     "output_type": "execute_result",
     "data": {
      "text/plain": [
       "           date                       firm name      g\n",
       "0    2020-12-31  7-Eleven Malaysia Holdings Bhd  50.26\n",
       "1    2020-11-30  7-Eleven Malaysia Holdings Bhd  50.27\n",
       "2    2020-10-31  7-Eleven Malaysia Holdings Bhd   50.2\n",
       "3    2020-09-30  7-Eleven Malaysia Holdings Bhd  50.28\n",
       "4    2020-08-31  7-Eleven Malaysia Holdings Bhd  50.26\n",
       "...         ...                             ...    ...\n",
       "6835 2019-05-31        Zhulian Corporation Bhd.  80.46\n",
       "6836 2019-04-30        Zhulian Corporation Bhd.  80.44\n",
       "6837 2019-03-31        Zhulian Corporation Bhd.  79.63\n",
       "6838 2019-02-28        Zhulian Corporation Bhd.  79.93\n",
       "6839 2019-01-31        Zhulian Corporation Bhd.  79.93\n",
       "\n",
       "[6840 rows x 3 columns]"
      ],
      "text/html": "<div>\n<style scoped>\n    .dataframe tbody tr th:only-of-type {\n        vertical-align: middle;\n    }\n\n    .dataframe tbody tr th {\n        vertical-align: top;\n    }\n\n    .dataframe thead th {\n        text-align: right;\n    }\n</style>\n<table border=\"1\" class=\"dataframe\">\n  <thead>\n    <tr style=\"text-align: right;\">\n      <th></th>\n      <th>date</th>\n      <th>firm name</th>\n      <th>g</th>\n    </tr>\n  </thead>\n  <tbody>\n    <tr>\n      <th>0</th>\n      <td>2020-12-31</td>\n      <td>7-Eleven Malaysia Holdings Bhd</td>\n      <td>50.26</td>\n    </tr>\n    <tr>\n      <th>1</th>\n      <td>2020-11-30</td>\n      <td>7-Eleven Malaysia Holdings Bhd</td>\n      <td>50.27</td>\n    </tr>\n    <tr>\n      <th>2</th>\n      <td>2020-10-31</td>\n      <td>7-Eleven Malaysia Holdings Bhd</td>\n      <td>50.2</td>\n    </tr>\n    <tr>\n      <th>3</th>\n      <td>2020-09-30</td>\n      <td>7-Eleven Malaysia Holdings Bhd</td>\n      <td>50.28</td>\n    </tr>\n    <tr>\n      <th>4</th>\n      <td>2020-08-31</td>\n      <td>7-Eleven Malaysia Holdings Bhd</td>\n      <td>50.26</td>\n    </tr>\n    <tr>\n      <th>...</th>\n      <td>...</td>\n      <td>...</td>\n      <td>...</td>\n    </tr>\n    <tr>\n      <th>6835</th>\n      <td>2019-05-31</td>\n      <td>Zhulian Corporation Bhd.</td>\n      <td>80.46</td>\n    </tr>\n    <tr>\n      <th>6836</th>\n      <td>2019-04-30</td>\n      <td>Zhulian Corporation Bhd.</td>\n      <td>80.44</td>\n    </tr>\n    <tr>\n      <th>6837</th>\n      <td>2019-03-31</td>\n      <td>Zhulian Corporation Bhd.</td>\n      <td>79.63</td>\n    </tr>\n    <tr>\n      <th>6838</th>\n      <td>2019-02-28</td>\n      <td>Zhulian Corporation Bhd.</td>\n      <td>79.93</td>\n    </tr>\n    <tr>\n      <th>6839</th>\n      <td>2019-01-31</td>\n      <td>Zhulian Corporation Bhd.</td>\n      <td>79.93</td>\n    </tr>\n  </tbody>\n</table>\n<p>6840 rows × 3 columns</p>\n</div>"
     },
     "metadata": {},
     "execution_count": 19
    }
   ],
   "source": [
    "sray_df_G= pd.concat(sray_list_G)\n",
    "sray_df_G.reset_index(level=0, inplace=True)\n",
    "\n",
    "sray_df_G.rename(columns={'index': 'date'}, inplace=True)\n",
    "sray_df_G"
   ]
  },
  {
   "cell_type": "code",
   "execution_count": 20,
   "metadata": {},
   "outputs": [],
   "source": [
    "from functools import reduce\n",
    "\n",
    "#merge the 4 overall, E, S, G dataframe \n",
    "dfs=[sray_df,sray_df_E,sray_df_S,sray_df_G]\n",
    "sray_combined = reduce(lambda  left,right: pd.merge(left,right,on=['firm name', 'date'],how='outer'), dfs)\n"
   ]
  },
  {
   "cell_type": "code",
   "execution_count": 21,
   "metadata": {},
   "outputs": [
    {
     "output_type": "execute_result",
     "data": {
      "text/plain": [
       "           date                       firm name esg_sray      e      s      g\n",
       "0    2020-12-31  7-Eleven Malaysia Holdings Bhd    57.76  51.62  67.81  50.26\n",
       "1    2020-11-30  7-Eleven Malaysia Holdings Bhd    57.48  51.05  67.31  50.27\n",
       "2    2020-10-31  7-Eleven Malaysia Holdings Bhd    57.49  51.04  67.42   50.2\n",
       "3    2020-09-30  7-Eleven Malaysia Holdings Bhd    57.56  51.07  67.49  50.28\n",
       "4    2020-08-31  7-Eleven Malaysia Holdings Bhd    57.55  51.07  67.48  50.26\n",
       "...         ...                             ...      ...    ...    ...    ...\n",
       "6859 2019-05-31            Pegasus Heights Bhd.      NaN    NaN    NaN    NaN\n",
       "6860 2019-04-30            Pegasus Heights Bhd.      NaN    NaN    NaN    NaN\n",
       "6861 2019-03-31            Pegasus Heights Bhd.      NaN    NaN  42.96  60.69\n",
       "6862 2019-02-28            Pegasus Heights Bhd.      NaN    NaN  42.87  60.29\n",
       "6863 2019-01-31            Pegasus Heights Bhd.      NaN    NaN  42.87  60.28\n",
       "\n",
       "[6864 rows x 6 columns]"
      ],
      "text/html": "<div>\n<style scoped>\n    .dataframe tbody tr th:only-of-type {\n        vertical-align: middle;\n    }\n\n    .dataframe tbody tr th {\n        vertical-align: top;\n    }\n\n    .dataframe thead th {\n        text-align: right;\n    }\n</style>\n<table border=\"1\" class=\"dataframe\">\n  <thead>\n    <tr style=\"text-align: right;\">\n      <th></th>\n      <th>date</th>\n      <th>firm name</th>\n      <th>esg_sray</th>\n      <th>e</th>\n      <th>s</th>\n      <th>g</th>\n    </tr>\n  </thead>\n  <tbody>\n    <tr>\n      <th>0</th>\n      <td>2020-12-31</td>\n      <td>7-Eleven Malaysia Holdings Bhd</td>\n      <td>57.76</td>\n      <td>51.62</td>\n      <td>67.81</td>\n      <td>50.26</td>\n    </tr>\n    <tr>\n      <th>1</th>\n      <td>2020-11-30</td>\n      <td>7-Eleven Malaysia Holdings Bhd</td>\n      <td>57.48</td>\n      <td>51.05</td>\n      <td>67.31</td>\n      <td>50.27</td>\n    </tr>\n    <tr>\n      <th>2</th>\n      <td>2020-10-31</td>\n      <td>7-Eleven Malaysia Holdings Bhd</td>\n      <td>57.49</td>\n      <td>51.04</td>\n      <td>67.42</td>\n      <td>50.2</td>\n    </tr>\n    <tr>\n      <th>3</th>\n      <td>2020-09-30</td>\n      <td>7-Eleven Malaysia Holdings Bhd</td>\n      <td>57.56</td>\n      <td>51.07</td>\n      <td>67.49</td>\n      <td>50.28</td>\n    </tr>\n    <tr>\n      <th>4</th>\n      <td>2020-08-31</td>\n      <td>7-Eleven Malaysia Holdings Bhd</td>\n      <td>57.55</td>\n      <td>51.07</td>\n      <td>67.48</td>\n      <td>50.26</td>\n    </tr>\n    <tr>\n      <th>...</th>\n      <td>...</td>\n      <td>...</td>\n      <td>...</td>\n      <td>...</td>\n      <td>...</td>\n      <td>...</td>\n    </tr>\n    <tr>\n      <th>6859</th>\n      <td>2019-05-31</td>\n      <td>Pegasus Heights Bhd.</td>\n      <td>NaN</td>\n      <td>NaN</td>\n      <td>NaN</td>\n      <td>NaN</td>\n    </tr>\n    <tr>\n      <th>6860</th>\n      <td>2019-04-30</td>\n      <td>Pegasus Heights Bhd.</td>\n      <td>NaN</td>\n      <td>NaN</td>\n      <td>NaN</td>\n      <td>NaN</td>\n    </tr>\n    <tr>\n      <th>6861</th>\n      <td>2019-03-31</td>\n      <td>Pegasus Heights Bhd.</td>\n      <td>NaN</td>\n      <td>NaN</td>\n      <td>42.96</td>\n      <td>60.69</td>\n    </tr>\n    <tr>\n      <th>6862</th>\n      <td>2019-02-28</td>\n      <td>Pegasus Heights Bhd.</td>\n      <td>NaN</td>\n      <td>NaN</td>\n      <td>42.87</td>\n      <td>60.29</td>\n    </tr>\n    <tr>\n      <th>6863</th>\n      <td>2019-01-31</td>\n      <td>Pegasus Heights Bhd.</td>\n      <td>NaN</td>\n      <td>NaN</td>\n      <td>42.87</td>\n      <td>60.28</td>\n    </tr>\n  </tbody>\n</table>\n<p>6864 rows × 6 columns</p>\n</div>"
     },
     "metadata": {},
     "execution_count": 21
    }
   ],
   "source": [
    "sray_combined"
   ]
  },
  {
   "cell_type": "code",
   "execution_count": 22,
   "metadata": {},
   "outputs": [
    {
     "output_type": "execute_result",
     "data": {
      "text/plain": [
       "           date                       firm name esg_sray      e      s      g  \\\n",
       "0    2020-12-31  7-Eleven Malaysia Holdings Bhd    57.76  51.62  67.81  50.26   \n",
       "1    2020-11-30  7-Eleven Malaysia Holdings Bhd    57.48  51.05  67.31  50.27   \n",
       "2    2020-10-31  7-Eleven Malaysia Holdings Bhd    57.49  51.04  67.42   50.2   \n",
       "3    2020-09-30  7-Eleven Malaysia Holdings Bhd    57.56  51.07  67.49  50.28   \n",
       "4    2020-08-31  7-Eleven Malaysia Holdings Bhd    57.55  51.07  67.48  50.26   \n",
       "...         ...                             ...      ...    ...    ...    ...   \n",
       "6859 2019-05-31            Pegasus Heights Bhd.      NaN    NaN    NaN    NaN   \n",
       "6860 2019-04-30            Pegasus Heights Bhd.      NaN    NaN    NaN    NaN   \n",
       "6861 2019-03-31            Pegasus Heights Bhd.      NaN    NaN  42.96  60.69   \n",
       "6862 2019-02-28            Pegasus Heights Bhd.      NaN    NaN  42.87  60.29   \n",
       "6863 2019-01-31            Pegasus Heights Bhd.      NaN    NaN  42.87  60.28   \n",
       "\n",
       "             es         eg         sg      esg_cubic  \n",
       "0     3500.3522  2594.4212  3408.1306  175927.701572  \n",
       "1     3436.1755  2566.2835  3383.6737  172736.542385  \n",
       "2     3441.1168   2562.208   3384.484   172744.06336  \n",
       "3     3446.7143  2567.7996  3393.3972  173300.795004  \n",
       "4     3446.2036  2566.7782  3391.5448  173206.192936  \n",
       "...         ...        ...        ...            ...  \n",
       "6859        NaN        NaN        NaN            NaN  \n",
       "6860        NaN        NaN        NaN            NaN  \n",
       "6861        NaN        NaN  2607.2424            NaN  \n",
       "6862        NaN        NaN  2584.6323            NaN  \n",
       "6863        NaN        NaN  2584.2036            NaN  \n",
       "\n",
       "[6864 rows x 10 columns]"
      ],
      "text/html": "<div>\n<style scoped>\n    .dataframe tbody tr th:only-of-type {\n        vertical-align: middle;\n    }\n\n    .dataframe tbody tr th {\n        vertical-align: top;\n    }\n\n    .dataframe thead th {\n        text-align: right;\n    }\n</style>\n<table border=\"1\" class=\"dataframe\">\n  <thead>\n    <tr style=\"text-align: right;\">\n      <th></th>\n      <th>date</th>\n      <th>firm name</th>\n      <th>esg_sray</th>\n      <th>e</th>\n      <th>s</th>\n      <th>g</th>\n      <th>es</th>\n      <th>eg</th>\n      <th>sg</th>\n      <th>esg_cubic</th>\n    </tr>\n  </thead>\n  <tbody>\n    <tr>\n      <th>0</th>\n      <td>2020-12-31</td>\n      <td>7-Eleven Malaysia Holdings Bhd</td>\n      <td>57.76</td>\n      <td>51.62</td>\n      <td>67.81</td>\n      <td>50.26</td>\n      <td>3500.3522</td>\n      <td>2594.4212</td>\n      <td>3408.1306</td>\n      <td>175927.701572</td>\n    </tr>\n    <tr>\n      <th>1</th>\n      <td>2020-11-30</td>\n      <td>7-Eleven Malaysia Holdings Bhd</td>\n      <td>57.48</td>\n      <td>51.05</td>\n      <td>67.31</td>\n      <td>50.27</td>\n      <td>3436.1755</td>\n      <td>2566.2835</td>\n      <td>3383.6737</td>\n      <td>172736.542385</td>\n    </tr>\n    <tr>\n      <th>2</th>\n      <td>2020-10-31</td>\n      <td>7-Eleven Malaysia Holdings Bhd</td>\n      <td>57.49</td>\n      <td>51.04</td>\n      <td>67.42</td>\n      <td>50.2</td>\n      <td>3441.1168</td>\n      <td>2562.208</td>\n      <td>3384.484</td>\n      <td>172744.06336</td>\n    </tr>\n    <tr>\n      <th>3</th>\n      <td>2020-09-30</td>\n      <td>7-Eleven Malaysia Holdings Bhd</td>\n      <td>57.56</td>\n      <td>51.07</td>\n      <td>67.49</td>\n      <td>50.28</td>\n      <td>3446.7143</td>\n      <td>2567.7996</td>\n      <td>3393.3972</td>\n      <td>173300.795004</td>\n    </tr>\n    <tr>\n      <th>4</th>\n      <td>2020-08-31</td>\n      <td>7-Eleven Malaysia Holdings Bhd</td>\n      <td>57.55</td>\n      <td>51.07</td>\n      <td>67.48</td>\n      <td>50.26</td>\n      <td>3446.2036</td>\n      <td>2566.7782</td>\n      <td>3391.5448</td>\n      <td>173206.192936</td>\n    </tr>\n    <tr>\n      <th>...</th>\n      <td>...</td>\n      <td>...</td>\n      <td>...</td>\n      <td>...</td>\n      <td>...</td>\n      <td>...</td>\n      <td>...</td>\n      <td>...</td>\n      <td>...</td>\n      <td>...</td>\n    </tr>\n    <tr>\n      <th>6859</th>\n      <td>2019-05-31</td>\n      <td>Pegasus Heights Bhd.</td>\n      <td>NaN</td>\n      <td>NaN</td>\n      <td>NaN</td>\n      <td>NaN</td>\n      <td>NaN</td>\n      <td>NaN</td>\n      <td>NaN</td>\n      <td>NaN</td>\n    </tr>\n    <tr>\n      <th>6860</th>\n      <td>2019-04-30</td>\n      <td>Pegasus Heights Bhd.</td>\n      <td>NaN</td>\n      <td>NaN</td>\n      <td>NaN</td>\n      <td>NaN</td>\n      <td>NaN</td>\n      <td>NaN</td>\n      <td>NaN</td>\n      <td>NaN</td>\n    </tr>\n    <tr>\n      <th>6861</th>\n      <td>2019-03-31</td>\n      <td>Pegasus Heights Bhd.</td>\n      <td>NaN</td>\n      <td>NaN</td>\n      <td>42.96</td>\n      <td>60.69</td>\n      <td>NaN</td>\n      <td>NaN</td>\n      <td>2607.2424</td>\n      <td>NaN</td>\n    </tr>\n    <tr>\n      <th>6862</th>\n      <td>2019-02-28</td>\n      <td>Pegasus Heights Bhd.</td>\n      <td>NaN</td>\n      <td>NaN</td>\n      <td>42.87</td>\n      <td>60.29</td>\n      <td>NaN</td>\n      <td>NaN</td>\n      <td>2584.6323</td>\n      <td>NaN</td>\n    </tr>\n    <tr>\n      <th>6863</th>\n      <td>2019-01-31</td>\n      <td>Pegasus Heights Bhd.</td>\n      <td>NaN</td>\n      <td>NaN</td>\n      <td>42.87</td>\n      <td>60.28</td>\n      <td>NaN</td>\n      <td>NaN</td>\n      <td>2584.2036</td>\n      <td>NaN</td>\n    </tr>\n  </tbody>\n</table>\n<p>6864 rows × 10 columns</p>\n</div>"
     },
     "metadata": {},
     "execution_count": 22
    }
   ],
   "source": [
    "sray_combined['es']= sray_combined['e']* sray_combined['s']\n",
    "sray_combined['eg']= sray_combined['e']* sray_combined['g']\n",
    "sray_combined['sg']= sray_combined['s']* sray_combined['g']\n",
    "sray_combined['esg_cubic']= sray_combined['e']* sray_combined['s']* sray_combined['g']\n",
    "sray_combined"
   ]
  },
  {
   "cell_type": "code",
   "execution_count": 23,
   "metadata": {},
   "outputs": [],
   "source": [
    "#sray_combined.sort_values([\"firm no\",\"date\"], inplace=True)\n",
    "sray_combined[\"date\"] = sray_combined[\"date\"].dt.strftime(\"%d-%m-%Y\")\n"
   ]
  },
  {
   "cell_type": "code",
   "execution_count": 24,
   "metadata": {},
   "outputs": [
    {
     "output_type": "stream",
     "name": "stdout",
     "text": [
      "286\n"
     ]
    }
   ],
   "source": [
    "gp_dict = sray_combined.groupby('firm name')\n",
    "#print(gp_dict.groups.keys())\n",
    "\n",
    "separated_df = [gp_dict.get_group(x) for x in gp_dict.groups]\n",
    "\n",
    "print(len(separated_df))\n",
    "\n",
    "counter = 0\n",
    "new_sray = []\n",
    "\n",
    "for dataframe in separated_df:\n",
    "    dataframe.insert(1, \"firm no\", counter+1)\n",
    "    new_sray.append(dataframe)\n",
    "    counter += 1\n",
    "\n",
    "sray_combined = pd.concat(new_sray)"
   ]
  },
  {
   "cell_type": "code",
   "execution_count": 25,
   "metadata": {},
   "outputs": [],
   "source": [
    "sray_combined.to_excel(\"sray_combined.xlsx\", sheet_name=\"main\")"
   ]
  },
  {
   "cell_type": "code",
   "execution_count": null,
   "metadata": {},
   "outputs": [],
   "source": []
  }
 ]
}