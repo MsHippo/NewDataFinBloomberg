{
 "cells": [
  {
   "cell_type": "markdown",
   "metadata": {},
   "source": [
    "This code file is for Arabesque S-Ray ESG Malaysian data only"
   ]
  },
  {
   "cell_type": "code",
   "execution_count": 6,
   "metadata": {},
   "outputs": [],
   "source": [
    "import pandas as pd"
   ]
  },
  {
   "cell_type": "code",
   "execution_count": 7,
   "metadata": {},
   "outputs": [],
   "source": [
    "import openpyxl \n",
    "from datetime import datetime"
   ]
  },
  {
   "cell_type": "code",
   "execution_count": 15,
   "metadata": {},
   "outputs": [],
   "source": [
    "#original file\r\n",
    "#sray1 = pd.ExcelFile(r\"C:\\Users\\V310\\Google Drive\\Research_in drive_and_hd\\FRGS-ESG\\Data\\Data_S-Ray\\Raw Data\\MY_ESG_sray_2019-20.xlsx\")\r\n",
    "\r\n",
    "#all the items needed\r\n",
    "#item_mapping = pd.ExcelFile(r\"C:\\Users\\V310\\Google Drive\\Research_in drive_and_hd\\FRGS-ESG\\Data\\name_mapping.xlsx\") #use same mapping file for all"
   ]
  },
  {
   "cell_type": "markdown",
   "metadata": {},
   "source": [
    "Manage Arabesque S-Ray ESG data"
   ]
  },
  {
   "cell_type": "code",
   "execution_count": 8,
   "metadata": {},
   "outputs": [],
   "source": [
    "sray1 = pd.ExcelFile(r\"C:\\Users\\V310\\Google Drive\\Research_in drive_and_hd\\FRGS-ESG\\Data\\Data_S-Ray\\Raw Data\\MY_ESG_sray_2019-20.xlsx\") #file name is capital letter sensitive and must include xlsx\r\n",
    "overall = pd.read_excel(sray1, 'overall', index_col=0, header=0) #set column A as index col and row 1 (firm & date) as header\r\n",
    "E = pd.read_excel(sray1, 'E', index_col=0, header=0) \r\n",
    "S = pd.read_excel(sray1, 'S', index_col=0, header=0)\r\n",
    "G= pd.read_excel(sray1, 'G', index_col=0, header=0)\r\n",
    "dataframe= pd.concat([overall,E,S,G]) #append all sheets into one\r\n",
    "dataframe #this is to print/show the data in jupyter way\r\n",
    "dataframe.to_excel(r\"C:\\Users\\V310\\Google Drive\\Research_in drive_and_hd\\FRGS-ESG\\Data\\Data_S-Ray\\Converted Data\\sray1 2019-20.xlsx\", sheet_name=\"esg\")"
   ]
  },
  {
   "cell_type": "code",
   "execution_count": null,
   "metadata": {},
   "outputs": [],
   "source": [
    "#not used - keep first\r\n",
    "#overall_esg = pd.read_excel(sray1, sheet_name=\"overall\", header=0)   #set row 1 as header \r\n",
    "#overall_data = pd.DataFrame(overall_esg) #if we don't define with a name, have to typd pd.DataFrame(overall) all the times\r\n",
    "#overall_data.firm = overall_data.iloc[0] #collect row 0 which is the 'firm'(header) now\r\n",
    "#overall_data #for jupyter, no need to use print(financial data). Different setting if use print"
   ]
  },
  {
   "cell_type": "code",
   "execution_count": null,
   "metadata": {},
   "outputs": [],
   "source": [
    "complete_esg_data.to_excel(r\"C:\\Users\\V310\\Google Drive\\Research_in drive_and_hd\\FRGS-ESG\\Data\\Data_S-Ray\\Converted Data\\MY_esg_data_sray.xlsx\", sheet_name=\"esg\")"
   ]
  },
  {
   "cell_type": "markdown",
   "metadata": {},
   "source": [
    "Transforming Data"
   ]
  },
  {
   "cell_type": "code",
   "execution_count": null,
   "metadata": {},
   "outputs": [],
   "source": [
    "#transform E,S,G to quadratic and cubic terms - es, eg, sg, esg and add as new variables (how to create new variable for these?)\r\n",
    "es=e*s\r\n",
    "eg=e*g\r\n",
    "sg=s*g\r\n",
    "esg_cubic=e*s*g"
   ]
  }
 ],
 "metadata": {
  "kernelspec": {
   "display_name": "Python 3.9.2 64-bit",
   "name": "python392jvsc74a57bd07812e28804c6c982074704cc9fad43e57aa28f57ed21fd0e0572a7f729f65855"
  },
  "language_info": {
   "codemirror_mode": {
    "name": "ipython",
    "version": 3
   },
   "file_extension": ".py",
   "mimetype": "text/x-python",
   "name": "python",
   "nbconvert_exporter": "python",
   "pygments_lexer": "ipython3",
   "version": "3.9.2"
  },
  "metadata": {
   "interpreter": {
    "hash": "747c0c9e8a2aa273aa170cc33dbadd06e3c2627f690ee5127eeb0e60abaae88b"
   }
  },
  "orig_nbformat": 2
 },
 "nbformat": 4,
 "nbformat_minor": 2
}